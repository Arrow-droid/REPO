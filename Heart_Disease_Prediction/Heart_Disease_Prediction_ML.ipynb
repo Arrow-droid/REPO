{
 "cells": [
  {
   "cell_type": "markdown",
   "id": "8ea73f4e",
   "metadata": {},
   "source": [
    "# A comparative analysis of machine learning algorithms for heart disease prediction"
   ]
  },
  {
   "cell_type": "markdown",
   "id": "54950968",
   "metadata": {},
   "source": [
    "# 1. Importing essential libraries"
   ]
  },
  {
   "cell_type": "code",
   "execution_count": 2,
   "id": "a193f436",
   "metadata": {},
   "outputs": [
    {
     "name": "stdout",
     "output_type": "stream",
     "text": [
      "['.ipynb_checkpoints', 'final dicision tree.png', 'heart_disease_data.csv', 'Heart_Disease_Prediction_ML.ipynb']\n"
     ]
    }
   ],
   "source": [
    "import numpy as np\n",
    "import pandas as pd\n",
    "import matplotlib.pyplot as plt\n",
    "import seaborn as sns\n",
    "\n",
    "%matplotlib inline\n",
    "\n",
    "import os\n",
    "print(os.listdir())\n",
    "\n",
    "import warnings\n",
    "warnings.filterwarnings('ignore')"
   ]
  },
  {
   "cell_type": "markdown",
   "id": "8de97085",
   "metadata": {},
   "source": [
    "# 2. Importing and undeerstanding our dataset"
   ]
  },
  {
   "cell_type": "code",
   "execution_count": 3,
   "id": "1eb467b1",
   "metadata": {},
   "outputs": [],
   "source": [
    "data = pd.read_csv(\"heart_disease_data.csv\")"
   ]
  },
  {
   "cell_type": "code",
   "execution_count": 4,
   "id": "b99ad8de",
   "metadata": {},
   "outputs": [
    {
     "data": {
      "text/plain": [
       "pandas.core.frame.DataFrame"
      ]
     },
     "execution_count": 4,
     "metadata": {},
     "output_type": "execute_result"
    }
   ],
   "source": [
    "type(data)"
   ]
  },
  {
   "cell_type": "code",
   "execution_count": 8,
   "id": "d1765e28",
   "metadata": {},
   "outputs": [
    {
     "data": {
      "text/plain": [
       "(303, 14)"
      ]
     },
     "execution_count": 8,
     "metadata": {},
     "output_type": "execute_result"
    }
   ],
   "source": [
    "data.shape"
   ]
  },
  {
   "cell_type": "code",
   "execution_count": 9,
   "id": "cdd0152d",
   "metadata": {},
   "outputs": [
    {
     "data": {
      "text/html": [
       "<div>\n",
       "<style scoped>\n",
       "    .dataframe tbody tr th:only-of-type {\n",
       "        vertical-align: middle;\n",
       "    }\n",
       "\n",
       "    .dataframe tbody tr th {\n",
       "        vertical-align: top;\n",
       "    }\n",
       "\n",
       "    .dataframe thead th {\n",
       "        text-align: right;\n",
       "    }\n",
       "</style>\n",
       "<table border=\"1\" class=\"dataframe\">\n",
       "  <thead>\n",
       "    <tr style=\"text-align: right;\">\n",
       "      <th></th>\n",
       "      <th>age</th>\n",
       "      <th>sex</th>\n",
       "      <th>cp</th>\n",
       "      <th>trestbps</th>\n",
       "      <th>chol</th>\n",
       "      <th>fbs</th>\n",
       "      <th>restecg</th>\n",
       "      <th>thalach</th>\n",
       "      <th>exang</th>\n",
       "      <th>oldpeak</th>\n",
       "      <th>slope</th>\n",
       "      <th>ca</th>\n",
       "      <th>thal</th>\n",
       "      <th>target</th>\n",
       "    </tr>\n",
       "  </thead>\n",
       "  <tbody>\n",
       "    <tr>\n",
       "      <th>0</th>\n",
       "      <td>63</td>\n",
       "      <td>1</td>\n",
       "      <td>3</td>\n",
       "      <td>145</td>\n",
       "      <td>233</td>\n",
       "      <td>1</td>\n",
       "      <td>0</td>\n",
       "      <td>150</td>\n",
       "      <td>0</td>\n",
       "      <td>2.3</td>\n",
       "      <td>0</td>\n",
       "      <td>0</td>\n",
       "      <td>1</td>\n",
       "      <td>1</td>\n",
       "    </tr>\n",
       "    <tr>\n",
       "      <th>1</th>\n",
       "      <td>37</td>\n",
       "      <td>1</td>\n",
       "      <td>2</td>\n",
       "      <td>130</td>\n",
       "      <td>250</td>\n",
       "      <td>0</td>\n",
       "      <td>1</td>\n",
       "      <td>187</td>\n",
       "      <td>0</td>\n",
       "      <td>3.5</td>\n",
       "      <td>0</td>\n",
       "      <td>0</td>\n",
       "      <td>2</td>\n",
       "      <td>1</td>\n",
       "    </tr>\n",
       "    <tr>\n",
       "      <th>2</th>\n",
       "      <td>41</td>\n",
       "      <td>0</td>\n",
       "      <td>1</td>\n",
       "      <td>130</td>\n",
       "      <td>204</td>\n",
       "      <td>0</td>\n",
       "      <td>0</td>\n",
       "      <td>172</td>\n",
       "      <td>0</td>\n",
       "      <td>1.4</td>\n",
       "      <td>2</td>\n",
       "      <td>0</td>\n",
       "      <td>2</td>\n",
       "      <td>1</td>\n",
       "    </tr>\n",
       "    <tr>\n",
       "      <th>3</th>\n",
       "      <td>56</td>\n",
       "      <td>1</td>\n",
       "      <td>1</td>\n",
       "      <td>120</td>\n",
       "      <td>236</td>\n",
       "      <td>0</td>\n",
       "      <td>1</td>\n",
       "      <td>178</td>\n",
       "      <td>0</td>\n",
       "      <td>0.8</td>\n",
       "      <td>2</td>\n",
       "      <td>0</td>\n",
       "      <td>2</td>\n",
       "      <td>1</td>\n",
       "    </tr>\n",
       "    <tr>\n",
       "      <th>4</th>\n",
       "      <td>57</td>\n",
       "      <td>0</td>\n",
       "      <td>0</td>\n",
       "      <td>120</td>\n",
       "      <td>354</td>\n",
       "      <td>0</td>\n",
       "      <td>1</td>\n",
       "      <td>163</td>\n",
       "      <td>1</td>\n",
       "      <td>0.6</td>\n",
       "      <td>2</td>\n",
       "      <td>0</td>\n",
       "      <td>2</td>\n",
       "      <td>1</td>\n",
       "    </tr>\n",
       "  </tbody>\n",
       "</table>\n",
       "</div>"
      ],
      "text/plain": [
       "   age  sex  cp  trestbps  chol  fbs  restecg  thalach  exang  oldpeak  slope  \\\n",
       "0   63    1   3       145   233    1        0      150      0      2.3      0   \n",
       "1   37    1   2       130   250    0        1      187      0      3.5      0   \n",
       "2   41    0   1       130   204    0        0      172      0      1.4      2   \n",
       "3   56    1   1       120   236    0        1      178      0      0.8      2   \n",
       "4   57    0   0       120   354    0        1      163      1      0.6      2   \n",
       "\n",
       "   ca  thal  target  \n",
       "0   0     1       1  \n",
       "1   0     2       1  \n",
       "2   0     2       1  \n",
       "3   0     2       1  \n",
       "4   0     2       1  "
      ]
     },
     "execution_count": 9,
     "metadata": {},
     "output_type": "execute_result"
    }
   ],
   "source": [
    "data.head()"
   ]
  },
  {
   "cell_type": "code",
   "execution_count": 10,
   "id": "b78329dc",
   "metadata": {},
   "outputs": [
    {
     "data": {
      "text/html": [
       "<div>\n",
       "<style scoped>\n",
       "    .dataframe tbody tr th:only-of-type {\n",
       "        vertical-align: middle;\n",
       "    }\n",
       "\n",
       "    .dataframe tbody tr th {\n",
       "        vertical-align: top;\n",
       "    }\n",
       "\n",
       "    .dataframe thead th {\n",
       "        text-align: right;\n",
       "    }\n",
       "</style>\n",
       "<table border=\"1\" class=\"dataframe\">\n",
       "  <thead>\n",
       "    <tr style=\"text-align: right;\">\n",
       "      <th></th>\n",
       "      <th>age</th>\n",
       "      <th>sex</th>\n",
       "      <th>cp</th>\n",
       "      <th>trestbps</th>\n",
       "      <th>chol</th>\n",
       "      <th>fbs</th>\n",
       "      <th>restecg</th>\n",
       "      <th>thalach</th>\n",
       "      <th>exang</th>\n",
       "      <th>oldpeak</th>\n",
       "      <th>slope</th>\n",
       "      <th>ca</th>\n",
       "      <th>thal</th>\n",
       "      <th>target</th>\n",
       "    </tr>\n",
       "  </thead>\n",
       "  <tbody>\n",
       "    <tr>\n",
       "      <th>count</th>\n",
       "      <td>303.000000</td>\n",
       "      <td>303.000000</td>\n",
       "      <td>303.000000</td>\n",
       "      <td>303.000000</td>\n",
       "      <td>303.000000</td>\n",
       "      <td>303.000000</td>\n",
       "      <td>303.000000</td>\n",
       "      <td>303.000000</td>\n",
       "      <td>303.000000</td>\n",
       "      <td>303.000000</td>\n",
       "      <td>303.000000</td>\n",
       "      <td>303.000000</td>\n",
       "      <td>303.000000</td>\n",
       "      <td>303.000000</td>\n",
       "    </tr>\n",
       "    <tr>\n",
       "      <th>mean</th>\n",
       "      <td>54.366337</td>\n",
       "      <td>0.683168</td>\n",
       "      <td>0.966997</td>\n",
       "      <td>131.623762</td>\n",
       "      <td>246.264026</td>\n",
       "      <td>0.148515</td>\n",
       "      <td>0.528053</td>\n",
       "      <td>149.646865</td>\n",
       "      <td>0.326733</td>\n",
       "      <td>1.039604</td>\n",
       "      <td>1.399340</td>\n",
       "      <td>0.729373</td>\n",
       "      <td>2.313531</td>\n",
       "      <td>0.544554</td>\n",
       "    </tr>\n",
       "    <tr>\n",
       "      <th>std</th>\n",
       "      <td>9.082101</td>\n",
       "      <td>0.466011</td>\n",
       "      <td>1.032052</td>\n",
       "      <td>17.538143</td>\n",
       "      <td>51.830751</td>\n",
       "      <td>0.356198</td>\n",
       "      <td>0.525860</td>\n",
       "      <td>22.905161</td>\n",
       "      <td>0.469794</td>\n",
       "      <td>1.161075</td>\n",
       "      <td>0.616226</td>\n",
       "      <td>1.022606</td>\n",
       "      <td>0.612277</td>\n",
       "      <td>0.498835</td>\n",
       "    </tr>\n",
       "    <tr>\n",
       "      <th>min</th>\n",
       "      <td>29.000000</td>\n",
       "      <td>0.000000</td>\n",
       "      <td>0.000000</td>\n",
       "      <td>94.000000</td>\n",
       "      <td>126.000000</td>\n",
       "      <td>0.000000</td>\n",
       "      <td>0.000000</td>\n",
       "      <td>71.000000</td>\n",
       "      <td>0.000000</td>\n",
       "      <td>0.000000</td>\n",
       "      <td>0.000000</td>\n",
       "      <td>0.000000</td>\n",
       "      <td>0.000000</td>\n",
       "      <td>0.000000</td>\n",
       "    </tr>\n",
       "    <tr>\n",
       "      <th>25%</th>\n",
       "      <td>47.500000</td>\n",
       "      <td>0.000000</td>\n",
       "      <td>0.000000</td>\n",
       "      <td>120.000000</td>\n",
       "      <td>211.000000</td>\n",
       "      <td>0.000000</td>\n",
       "      <td>0.000000</td>\n",
       "      <td>133.500000</td>\n",
       "      <td>0.000000</td>\n",
       "      <td>0.000000</td>\n",
       "      <td>1.000000</td>\n",
       "      <td>0.000000</td>\n",
       "      <td>2.000000</td>\n",
       "      <td>0.000000</td>\n",
       "    </tr>\n",
       "    <tr>\n",
       "      <th>50%</th>\n",
       "      <td>55.000000</td>\n",
       "      <td>1.000000</td>\n",
       "      <td>1.000000</td>\n",
       "      <td>130.000000</td>\n",
       "      <td>240.000000</td>\n",
       "      <td>0.000000</td>\n",
       "      <td>1.000000</td>\n",
       "      <td>153.000000</td>\n",
       "      <td>0.000000</td>\n",
       "      <td>0.800000</td>\n",
       "      <td>1.000000</td>\n",
       "      <td>0.000000</td>\n",
       "      <td>2.000000</td>\n",
       "      <td>1.000000</td>\n",
       "    </tr>\n",
       "    <tr>\n",
       "      <th>75%</th>\n",
       "      <td>61.000000</td>\n",
       "      <td>1.000000</td>\n",
       "      <td>2.000000</td>\n",
       "      <td>140.000000</td>\n",
       "      <td>274.500000</td>\n",
       "      <td>0.000000</td>\n",
       "      <td>1.000000</td>\n",
       "      <td>166.000000</td>\n",
       "      <td>1.000000</td>\n",
       "      <td>1.600000</td>\n",
       "      <td>2.000000</td>\n",
       "      <td>1.000000</td>\n",
       "      <td>3.000000</td>\n",
       "      <td>1.000000</td>\n",
       "    </tr>\n",
       "    <tr>\n",
       "      <th>max</th>\n",
       "      <td>77.000000</td>\n",
       "      <td>1.000000</td>\n",
       "      <td>3.000000</td>\n",
       "      <td>200.000000</td>\n",
       "      <td>564.000000</td>\n",
       "      <td>1.000000</td>\n",
       "      <td>2.000000</td>\n",
       "      <td>202.000000</td>\n",
       "      <td>1.000000</td>\n",
       "      <td>6.200000</td>\n",
       "      <td>2.000000</td>\n",
       "      <td>4.000000</td>\n",
       "      <td>3.000000</td>\n",
       "      <td>1.000000</td>\n",
       "    </tr>\n",
       "  </tbody>\n",
       "</table>\n",
       "</div>"
      ],
      "text/plain": [
       "              age         sex          cp    trestbps        chol         fbs  \\\n",
       "count  303.000000  303.000000  303.000000  303.000000  303.000000  303.000000   \n",
       "mean    54.366337    0.683168    0.966997  131.623762  246.264026    0.148515   \n",
       "std      9.082101    0.466011    1.032052   17.538143   51.830751    0.356198   \n",
       "min     29.000000    0.000000    0.000000   94.000000  126.000000    0.000000   \n",
       "25%     47.500000    0.000000    0.000000  120.000000  211.000000    0.000000   \n",
       "50%     55.000000    1.000000    1.000000  130.000000  240.000000    0.000000   \n",
       "75%     61.000000    1.000000    2.000000  140.000000  274.500000    0.000000   \n",
       "max     77.000000    1.000000    3.000000  200.000000  564.000000    1.000000   \n",
       "\n",
       "          restecg     thalach       exang     oldpeak       slope          ca  \\\n",
       "count  303.000000  303.000000  303.000000  303.000000  303.000000  303.000000   \n",
       "mean     0.528053  149.646865    0.326733    1.039604    1.399340    0.729373   \n",
       "std      0.525860   22.905161    0.469794    1.161075    0.616226    1.022606   \n",
       "min      0.000000   71.000000    0.000000    0.000000    0.000000    0.000000   \n",
       "25%      0.000000  133.500000    0.000000    0.000000    1.000000    0.000000   \n",
       "50%      1.000000  153.000000    0.000000    0.800000    1.000000    0.000000   \n",
       "75%      1.000000  166.000000    1.000000    1.600000    2.000000    1.000000   \n",
       "max      2.000000  202.000000    1.000000    6.200000    2.000000    4.000000   \n",
       "\n",
       "             thal      target  \n",
       "count  303.000000  303.000000  \n",
       "mean     2.313531    0.544554  \n",
       "std      0.612277    0.498835  \n",
       "min      0.000000    0.000000  \n",
       "25%      2.000000    0.000000  \n",
       "50%      2.000000    1.000000  \n",
       "75%      3.000000    1.000000  \n",
       "max      3.000000    1.000000  "
      ]
     },
     "execution_count": 10,
     "metadata": {},
     "output_type": "execute_result"
    }
   ],
   "source": [
    "data.describe()"
   ]
  },
  {
   "cell_type": "code",
   "execution_count": 11,
   "id": "a4f5ac39",
   "metadata": {},
   "outputs": [
    {
     "name": "stdout",
     "output_type": "stream",
     "text": [
      "<class 'pandas.core.frame.DataFrame'>\n",
      "RangeIndex: 303 entries, 0 to 302\n",
      "Data columns (total 14 columns):\n",
      " #   Column    Non-Null Count  Dtype  \n",
      "---  ------    --------------  -----  \n",
      " 0   age       303 non-null    int64  \n",
      " 1   sex       303 non-null    int64  \n",
      " 2   cp        303 non-null    int64  \n",
      " 3   trestbps  303 non-null    int64  \n",
      " 4   chol      303 non-null    int64  \n",
      " 5   fbs       303 non-null    int64  \n",
      " 6   restecg   303 non-null    int64  \n",
      " 7   thalach   303 non-null    int64  \n",
      " 8   exang     303 non-null    int64  \n",
      " 9   oldpeak   303 non-null    float64\n",
      " 10  slope     303 non-null    int64  \n",
      " 11  ca        303 non-null    int64  \n",
      " 12  thal      303 non-null    int64  \n",
      " 13  target    303 non-null    int64  \n",
      "dtypes: float64(1), int64(13)\n",
      "memory usage: 33.3 KB\n"
     ]
    }
   ],
   "source": [
    "data.info()"
   ]
  },
  {
   "cell_type": "markdown",
   "id": "78c67809",
   "metadata": {},
   "source": [
    "# Dataset Information(14 attributes)\n",
    "1. age: The person's age in years\n",
    "\n",
    "2. sex: The person's sex (1 = male, 0 = female)\n",
    "\n",
    "3. cp: The chest pain experienced (Value 1: typical angina, Value 2: atypical angina, Value 3: non-anginal pain, Value 4: asymptomatic)\n",
    "\n",
    "4. trestbps: The person's resting blood pressure (mm Hg on admission to the hospital)\n",
    "\n",
    "5. chol: The person's cholesterol measurement in mg/dl\n",
    "\n",
    "6. fbs: The person's fasting blood sugar (> 120 mg/dl, 1 = true; 0 = false)\n",
    "\n",
    "7. restecg: Resting electrocardiographic measurement (0 = normal, 1 = having ST-T wave abnormality, 2 = showing probable or definite left ventricular hypertrophy by Estes' criteria)\n",
    "\n",
    "8. thalach: The person's maximum heart rate achieved\n",
    "\n",
    "9. exang: Exercise induced angina (1 = yes; 0 = no)\n",
    "\n",
    "10. oldpeak: ST depression induced by exercise relative to rest ('ST' relates to positions on the ECG plot. See more here)\n",
    "\n",
    "11. slope: the slope of the peak exercise ST segment (Value 1: upsloping, Value 2: flat, Value 3: downsloping)\n",
    "\n",
    "12. ca: The number of major vessels (0-3)\n",
    "\n",
    "13. thal: A blood disorder called thalassemia (3 = normal; 6 = fixed defect; 7 = reversable defect)\n",
    "\n",
    "14. target: Heart disease (0 = no, 1 = yes)\n",
    "\n",
    "Heart disease risk factors to the following: high cholesterol, high blood pressure, diabetes, weight, family history and smoking . \n",
    "\n",
    "According to another source , the major factors that can't be changed are: increasing age, male gender and heredity. \n",
    "\n",
    "Note that thalassemia, one of the variables in this dataset, is heredity. \n",
    "\n",
    "Major factors that can be modified are: Smoking, high cholesterol, high blood pressure, physical inactivity, and being overweight and having diabetes. \n",
    "\n",
    "Other factors include stress, alcohol and poor diet/nutrition."
   ]
  },
  {
   "cell_type": "code",
   "execution_count": 12,
   "id": "7e088f57",
   "metadata": {
    "scrolled": false
   },
   "outputs": [
    {
     "data": {
      "text/html": [
       "<div>\n",
       "<style scoped>\n",
       "    .dataframe tbody tr th:only-of-type {\n",
       "        vertical-align: middle;\n",
       "    }\n",
       "\n",
       "    .dataframe tbody tr th {\n",
       "        vertical-align: top;\n",
       "    }\n",
       "\n",
       "    .dataframe thead th {\n",
       "        text-align: right;\n",
       "    }\n",
       "</style>\n",
       "<table border=\"1\" class=\"dataframe\">\n",
       "  <thead>\n",
       "    <tr style=\"text-align: right;\">\n",
       "      <th></th>\n",
       "      <th>age</th>\n",
       "      <th>sex</th>\n",
       "      <th>cp</th>\n",
       "      <th>trestbps</th>\n",
       "      <th>chol</th>\n",
       "      <th>fbs</th>\n",
       "      <th>restecg</th>\n",
       "      <th>thalach</th>\n",
       "      <th>exang</th>\n",
       "      <th>oldpeak</th>\n",
       "      <th>slope</th>\n",
       "      <th>ca</th>\n",
       "      <th>thal</th>\n",
       "      <th>target</th>\n",
       "    </tr>\n",
       "  </thead>\n",
       "  <tbody>\n",
       "    <tr>\n",
       "      <th>173</th>\n",
       "      <td>58</td>\n",
       "      <td>1</td>\n",
       "      <td>2</td>\n",
       "      <td>132</td>\n",
       "      <td>224</td>\n",
       "      <td>0</td>\n",
       "      <td>0</td>\n",
       "      <td>173</td>\n",
       "      <td>0</td>\n",
       "      <td>3.2</td>\n",
       "      <td>2</td>\n",
       "      <td>2</td>\n",
       "      <td>3</td>\n",
       "      <td>0</td>\n",
       "    </tr>\n",
       "    <tr>\n",
       "      <th>49</th>\n",
       "      <td>53</td>\n",
       "      <td>0</td>\n",
       "      <td>0</td>\n",
       "      <td>138</td>\n",
       "      <td>234</td>\n",
       "      <td>0</td>\n",
       "      <td>0</td>\n",
       "      <td>160</td>\n",
       "      <td>0</td>\n",
       "      <td>0.0</td>\n",
       "      <td>2</td>\n",
       "      <td>0</td>\n",
       "      <td>2</td>\n",
       "      <td>1</td>\n",
       "    </tr>\n",
       "    <tr>\n",
       "      <th>289</th>\n",
       "      <td>55</td>\n",
       "      <td>0</td>\n",
       "      <td>0</td>\n",
       "      <td>128</td>\n",
       "      <td>205</td>\n",
       "      <td>0</td>\n",
       "      <td>2</td>\n",
       "      <td>130</td>\n",
       "      <td>1</td>\n",
       "      <td>2.0</td>\n",
       "      <td>1</td>\n",
       "      <td>1</td>\n",
       "      <td>3</td>\n",
       "      <td>0</td>\n",
       "    </tr>\n",
       "    <tr>\n",
       "      <th>204</th>\n",
       "      <td>62</td>\n",
       "      <td>0</td>\n",
       "      <td>0</td>\n",
       "      <td>160</td>\n",
       "      <td>164</td>\n",
       "      <td>0</td>\n",
       "      <td>0</td>\n",
       "      <td>145</td>\n",
       "      <td>0</td>\n",
       "      <td>6.2</td>\n",
       "      <td>0</td>\n",
       "      <td>3</td>\n",
       "      <td>3</td>\n",
       "      <td>0</td>\n",
       "    </tr>\n",
       "    <tr>\n",
       "      <th>118</th>\n",
       "      <td>46</td>\n",
       "      <td>0</td>\n",
       "      <td>1</td>\n",
       "      <td>105</td>\n",
       "      <td>204</td>\n",
       "      <td>0</td>\n",
       "      <td>1</td>\n",
       "      <td>172</td>\n",
       "      <td>0</td>\n",
       "      <td>0.0</td>\n",
       "      <td>2</td>\n",
       "      <td>0</td>\n",
       "      <td>2</td>\n",
       "      <td>1</td>\n",
       "    </tr>\n",
       "    <tr>\n",
       "      <th>...</th>\n",
       "      <td>...</td>\n",
       "      <td>...</td>\n",
       "      <td>...</td>\n",
       "      <td>...</td>\n",
       "      <td>...</td>\n",
       "      <td>...</td>\n",
       "      <td>...</td>\n",
       "      <td>...</td>\n",
       "      <td>...</td>\n",
       "      <td>...</td>\n",
       "      <td>...</td>\n",
       "      <td>...</td>\n",
       "      <td>...</td>\n",
       "      <td>...</td>\n",
       "    </tr>\n",
       "    <tr>\n",
       "      <th>92</th>\n",
       "      <td>52</td>\n",
       "      <td>1</td>\n",
       "      <td>2</td>\n",
       "      <td>138</td>\n",
       "      <td>223</td>\n",
       "      <td>0</td>\n",
       "      <td>1</td>\n",
       "      <td>169</td>\n",
       "      <td>0</td>\n",
       "      <td>0.0</td>\n",
       "      <td>2</td>\n",
       "      <td>4</td>\n",
       "      <td>2</td>\n",
       "      <td>1</td>\n",
       "    </tr>\n",
       "    <tr>\n",
       "      <th>185</th>\n",
       "      <td>44</td>\n",
       "      <td>1</td>\n",
       "      <td>0</td>\n",
       "      <td>112</td>\n",
       "      <td>290</td>\n",
       "      <td>0</td>\n",
       "      <td>0</td>\n",
       "      <td>153</td>\n",
       "      <td>0</td>\n",
       "      <td>0.0</td>\n",
       "      <td>2</td>\n",
       "      <td>1</td>\n",
       "      <td>2</td>\n",
       "      <td>0</td>\n",
       "    </tr>\n",
       "    <tr>\n",
       "      <th>104</th>\n",
       "      <td>50</td>\n",
       "      <td>1</td>\n",
       "      <td>2</td>\n",
       "      <td>129</td>\n",
       "      <td>196</td>\n",
       "      <td>0</td>\n",
       "      <td>1</td>\n",
       "      <td>163</td>\n",
       "      <td>0</td>\n",
       "      <td>0.0</td>\n",
       "      <td>2</td>\n",
       "      <td>0</td>\n",
       "      <td>2</td>\n",
       "      <td>1</td>\n",
       "    </tr>\n",
       "    <tr>\n",
       "      <th>133</th>\n",
       "      <td>41</td>\n",
       "      <td>1</td>\n",
       "      <td>1</td>\n",
       "      <td>110</td>\n",
       "      <td>235</td>\n",
       "      <td>0</td>\n",
       "      <td>1</td>\n",
       "      <td>153</td>\n",
       "      <td>0</td>\n",
       "      <td>0.0</td>\n",
       "      <td>2</td>\n",
       "      <td>0</td>\n",
       "      <td>2</td>\n",
       "      <td>1</td>\n",
       "    </tr>\n",
       "    <tr>\n",
       "      <th>237</th>\n",
       "      <td>60</td>\n",
       "      <td>1</td>\n",
       "      <td>0</td>\n",
       "      <td>140</td>\n",
       "      <td>293</td>\n",
       "      <td>0</td>\n",
       "      <td>0</td>\n",
       "      <td>170</td>\n",
       "      <td>0</td>\n",
       "      <td>1.2</td>\n",
       "      <td>1</td>\n",
       "      <td>2</td>\n",
       "      <td>3</td>\n",
       "      <td>0</td>\n",
       "    </tr>\n",
       "  </tbody>\n",
       "</table>\n",
       "<p>69 rows × 14 columns</p>\n",
       "</div>"
      ],
      "text/plain": [
       "     age  sex  cp  trestbps  chol  fbs  restecg  thalach  exang  oldpeak  \\\n",
       "173   58    1   2       132   224    0        0      173      0      3.2   \n",
       "49    53    0   0       138   234    0        0      160      0      0.0   \n",
       "289   55    0   0       128   205    0        2      130      1      2.0   \n",
       "204   62    0   0       160   164    0        0      145      0      6.2   \n",
       "118   46    0   1       105   204    0        1      172      0      0.0   \n",
       "..   ...  ...  ..       ...   ...  ...      ...      ...    ...      ...   \n",
       "92    52    1   2       138   223    0        1      169      0      0.0   \n",
       "185   44    1   0       112   290    0        0      153      0      0.0   \n",
       "104   50    1   2       129   196    0        1      163      0      0.0   \n",
       "133   41    1   1       110   235    0        1      153      0      0.0   \n",
       "237   60    1   0       140   293    0        0      170      0      1.2   \n",
       "\n",
       "     slope  ca  thal  target  \n",
       "173      2   2     3       0  \n",
       "49       2   0     2       1  \n",
       "289      1   1     3       0  \n",
       "204      0   3     3       0  \n",
       "118      2   0     2       1  \n",
       "..     ...  ..   ...     ...  \n",
       "92       2   4     2       1  \n",
       "185      2   1     2       0  \n",
       "104      2   0     2       1  \n",
       "133      2   0     2       1  \n",
       "237      1   2     3       0  \n",
       "\n",
       "[69 rows x 14 columns]"
      ]
     },
     "execution_count": 12,
     "metadata": {},
     "output_type": "execute_result"
    }
   ],
   "source": [
    "data.sample(69)"
   ]
  },
  {
   "cell_type": "code",
   "execution_count": 5,
   "id": "792c6840",
   "metadata": {},
   "outputs": [
    {
     "data": {
      "text/plain": [
       "age         0\n",
       "sex         0\n",
       "cp          0\n",
       "trestbps    0\n",
       "chol        0\n",
       "fbs         0\n",
       "restecg     0\n",
       "thalach     0\n",
       "exang       0\n",
       "oldpeak     0\n",
       "slope       0\n",
       "ca          0\n",
       "thal        0\n",
       "target      0\n",
       "dtype: int64"
      ]
     },
     "execution_count": 5,
     "metadata": {},
     "output_type": "execute_result"
    }
   ],
   "source": [
    "data.isnull().sum()"
   ]
  },
  {
   "cell_type": "code",
   "execution_count": 14,
   "id": "cde8867b",
   "metadata": {},
   "outputs": [
    {
     "data": {
      "text/plain": [
       "0"
      ]
     },
     "execution_count": 14,
     "metadata": {},
     "output_type": "execute_result"
    }
   ],
   "source": [
    "data.isnull().sum().sum()\n",
    "# 0 indicates no missing values"
   ]
  },
  {
   "cell_type": "code",
   "execution_count": 15,
   "id": "c6a44659",
   "metadata": {},
   "outputs": [
    {
     "name": "stdout",
     "output_type": "stream",
     "text": [
      "target      1.000000\n",
      "exang       0.436757\n",
      "cp          0.433798\n",
      "oldpeak     0.430696\n",
      "thalach     0.421741\n",
      "ca          0.391724\n",
      "slope       0.345877\n",
      "thal        0.344029\n",
      "sex         0.280937\n",
      "age         0.225439\n",
      "trestbps    0.144931\n",
      "restecg     0.137230\n",
      "chol        0.085239\n",
      "fbs         0.028046\n",
      "Name: target, dtype: float64\n"
     ]
    }
   ],
   "source": [
    "print(data.corr()[\"target\"].abs().sort_values(ascending=False))"
   ]
  },
  {
   "cell_type": "markdown",
   "id": "93e82139",
   "metadata": {},
   "source": [
    "# 3. Exploratory Data Analysis(EDA)"
   ]
  },
  {
   "cell_type": "code",
   "execution_count": 6,
   "id": "73231c02",
   "metadata": {},
   "outputs": [
    {
     "name": "stdout",
     "output_type": "stream",
     "text": [
      "1    165\n",
      "0    138\n",
      "Name: target, dtype: int64\n"
     ]
    },
    {
     "data": {
      "image/png": "[encoded data removed]",
      "text/plain": [
       "<Figure size 432x288 with 1 Axes>"
      ]
     },
     "metadata": {
      "needs_background": "light"
     },
     "output_type": "display_data"
    }
   ],
   "source": [
    "y = data[\"target\"]\n",
    "ax = sns.countplot(data[\"target\"])\n",
    "target_temp = data.target.value_counts()\n",
    "print(target_temp)"
   ]
  },
  {
   "cell_type": "code",
   "execution_count": 18,
   "id": "f9644c54",
   "metadata": {
    "scrolled": true
   },
   "outputs": [
    {
     "name": "stdout",
     "output_type": "stream",
     "text": [
      "Percentage of patients without heart problems: 45.54\n",
      "Percentage of patients with heart problems: 54.46\n"
     ]
    }
   ],
   "source": [
    "print(\"Percentage of patients without heart problems: \"+str(round(target_temp[0]*100/303,2)))\n",
    "print(\"Percentage of patients with heart problems: \"+str(round(target_temp[1]*100/303,2)))"
   ]
  },
  {
   "cell_type": "code",
   "execution_count": 7,
   "id": "f8483055",
   "metadata": {},
   "outputs": [
    {
     "data": {
      "text/plain": [
       "array([1, 0], dtype=int64)"
      ]
     },
     "execution_count": 7,
     "metadata": {},
     "output_type": "execute_result"
    }
   ],
   "source": [
    "data[\"sex\"].unique()"
   ]
  },
  {
   "cell_type": "code",
   "execution_count": 8,
   "id": "612aa053",
   "metadata": {},
   "outputs": [
    {
     "name": "stdout",
     "output_type": "stream",
     "text": [
      "Percentage of Female Patinets:31.68%\n",
      "Percentage of Male Patients:68.32%\n"
     ]
    }
   ],
   "source": [
    "countFemale = len(data[data.sex == 0])\n",
    "countMale = len(data[data.sex == 1])\n",
    "print(\"Percentage of Female Patinets:{:.2f}%\".format((countFemale)/(len(data.sex))*100))\n",
    "print(\"Percentage of Male Patients:{:.2f}%\".format((countMale)/(len(data.sex))*100))"
   ]
  },
  {
   "cell_type": "code",
   "execution_count": 10,
   "id": "1d23fe44",
   "metadata": {},
   "outputs": [
    {
     "data": {
      "text/plain": [
       "<AxesSubplot:xlabel='sex', ylabel='target'>"
      ]
     },
     "execution_count": 10,
     "metadata": {},
     "output_type": "execute_result"
    },
    {
     "data": {
      "image/png": "[encoded data removed]",
      "text/plain": [
       "<Figure size 432x288 with 1 Axes>"
      ]
     },
     "metadata": {
      "needs_background": "light"
     },
     "output_type": "display_data"
    }
   ],
   "source": [
    "sns.barplot(data[\"sex\"],y)"
   ]
  },
  {
   "cell_type": "code",
   "execution_count": 13,
   "id": "d2c5c6a8",
   "metadata": {
    "scrolled": true
   },
   "outputs": [
    {
     "data": {
      "image/png": "[encoded data removed]",
      "text/plain": [
       "<Figure size 1440x432 with 1 Axes>"
      ]
     },
     "metadata": {
      "needs_background": "light"
     },
     "output_type": "display_data"
    }
   ],
   "source": [
    "pd.crosstab(data.age,data.target).plot(kind=\"bar\",figsize=(20,6))\n",
    "plt.title('Heart Disease Frequency for Ages')\n",
    "plt.xlabel('Age')\n",
    "plt.ylabel('frequency')\n",
    "plt.savefig('heartDiseaseAndAges.png')\n",
    "plt.show()"
   ]
  },
  {
   "cell_type": "code",
   "execution_count": null,
   "id": "934978c5",
   "metadata": {},
   "outputs": [],
   "source": [
    "pd.crosstab(data.sex,data.target).plot(kind=\"bar\",fightsize=(20,10),color=['blue','#AA1111'])\n",
    "plt.title('Heart Disease Frequency for Sex')\n",
    "plt.xlabel('Sex(0 = Female, 1 = Male)')\n",
    "plt.xticks(rotation = 0)\n",
    "plt.legend([\"Don't have Disease\",\"Have Disease\"])\n",
    "plt.ylabel('Frequency')\n",
    "plt.show()"
   ]
  },
  {
   "cell_type": "code",
   "execution_count": 14,
   "id": "3d84a55f",
   "metadata": {},
   "outputs": [],
   "source": [
    "data.coloumns = ['age','sex','chest_pain_type','resting_blood_pressure','cholestrol',\n",
    "                 'fasting_blood_sugar','rest_ecg','max_heart_rate_achieved',\n",
    "                 'exercise_induced_angina','st_depression','st_slope','num_major_vessels',\n",
    "                 'thalassenia','target']"
   ]
  },
  {
   "cell_type": "code",
   "execution_count": 17,
   "id": "3f0dd181",
   "metadata": {},
   "outputs": [
    {
     "data": {
      "text/plain": [
       "array([3, 2, 1, 0], dtype=int64)"
      ]
     },
     "execution_count": 17,
     "metadata": {},
     "output_type": "execute_result"
    }
   ],
   "source": [
    "data[\"cp\"].unique()"
   ]
  },
  {
   "cell_type": "code",
   "execution_count": 18,
   "id": "9f21d575",
   "metadata": {},
   "outputs": [
    {
     "data": {
      "text/plain": [
       "<AxesSubplot:xlabel='cp', ylabel='target'>"
      ]
     },
     "execution_count": 18,
     "metadata": {},
     "output_type": "execute_result"
    },
    {
     "data": {
      "image/png": "[encoded data removed]",
      "text/plain": [
       "<Figure size 1872x720 with 1 Axes>"
      ]
     },
     "metadata": {
      "needs_background": "light"
     },
     "output_type": "display_data"
    }
   ],
   "source": [
    "plt.figure(figsize=(26,10))\n",
    "sns.barplot(data[\"cp\"],y)"
   ]
  },
  {
   "cell_type": "code",
   "execution_count": 19,
   "id": "b888e27e",
   "metadata": {},
   "outputs": [
    {
     "data": {
      "text/plain": [
       "array([145, 130, 120, 140, 172, 150, 110, 135, 160, 105, 125, 142, 155,\n",
       "       104, 138, 128, 108, 134, 122, 115, 118, 100, 124,  94, 112, 102,\n",
       "       152, 101, 132, 148, 178, 129, 180, 136, 126, 106, 156, 170, 146,\n",
       "       117, 200, 165, 174, 192, 144, 123, 154, 114, 164], dtype=int64)"
      ]
     },
     "execution_count": 19,
     "metadata": {},
     "output_type": "execute_result"
    }
   ],
   "source": [
    "data[\"trestbps\"].unique()"
   ]
  },
  {
   "cell_type": "code",
   "execution_count": 20,
   "id": "a5f36d23",
   "metadata": {
    "scrolled": true
   },
   "outputs": [
    {
     "data": {
      "text/plain": [
       "<AxesSubplot:xlabel='trestbps', ylabel='target'>"
      ]
     },
     "execution_count": 20,
     "metadata": {},
     "output_type": "execute_result"
    },
    {
     "data": {
      "image/png": "[encoded data removed]",
      "text/plain": [
       "<Figure size 1872x720 with 1 Axes>"
      ]
     },
     "metadata": {
      "needs_background": "light"
     },
     "output_type": "display_data"
    }
   ],
   "source": [
    "plt.figure(figsize=(26, 10))\n",
    "sns.barplot(data[\"trestbps\"],y)"
   ]
  },
  {
   "cell_type": "code",
   "execution_count": 22,
   "id": "47721d76",
   "metadata": {},
   "outputs": [
    {
     "data": {
      "text/plain": [
       "array([0, 1, 2], dtype=int64)"
      ]
     },
     "execution_count": 22,
     "metadata": {},
     "output_type": "execute_result"
    }
   ],
   "source": [
    "data[\"restecg\"].unique()"
   ]
  },
  {
   "cell_type": "code",
   "execution_count": 24,
   "id": "178ee400",
   "metadata": {},
   "outputs": [
    {
     "data": {
      "text/plain": [
       "<AxesSubplot:xlabel='restecg', ylabel='target'>"
      ]
     },
     "execution_count": 24,
     "metadata": {},
     "output_type": "execute_result"
    },
    {
     "data": {
      "image/png": "[encoded data removed]",
      "text/plain": [
       "<Figure size 1872x720 with 1 Axes>"
      ]
     },
     "metadata": {
      "needs_background": "light"
     },
     "output_type": "display_data"
    }
   ],
   "source": [
    "plt.figure(figsize=(26, 10))\n",
    "sns.barplot(data[\"restecg\"],y)"
   ]
  },
  {
   "cell_type": "code",
   "execution_count": 25,
   "id": "de28b345",
   "metadata": {},
   "outputs": [
    {
     "data": {
      "text/plain": [
       "array([0, 1], dtype=int64)"
      ]
     },
     "execution_count": 25,
     "metadata": {},
     "output_type": "execute_result"
    }
   ],
   "source": [
    "data[\"exang\"].unique()"
   ]
  },
  {
   "cell_type": "code",
   "execution_count": 26,
   "id": "9799d6cf",
   "metadata": {},
   "outputs": [
    {
     "data": {
      "text/plain": [
       "<AxesSubplot:xlabel='exang', ylabel='target'>"
      ]
     },
     "execution_count": 26,
     "metadata": {},
     "output_type": "execute_result"
    },
    {
     "data": {
      "image/png": "[encoded data removed]",
      "text/plain": [
       "<Figure size 1872x720 with 1 Axes>"
      ]
     },
     "metadata": {
      "needs_background": "light"
     },
     "output_type": "display_data"
    }
   ],
   "source": [
    "plt.figure(figsize=(26, 10))\n",
    "sns.barplot(data[\"exang\"],y)"
   ]
  },
  {
   "cell_type": "code",
   "execution_count": 27,
   "id": "fe29ab54",
   "metadata": {},
   "outputs": [
    {
     "data": {
      "text/plain": [
       "array([0, 2, 1], dtype=int64)"
      ]
     },
     "execution_count": 27,
     "metadata": {},
     "output_type": "execute_result"
    }
   ],
   "source": [
    "data[\"slope\"].unique()"
   ]
  },
  {
   "cell_type": "code",
   "execution_count": 28,
   "id": "ef8d018e",
   "metadata": {},
   "outputs": [
    {
     "data": {
      "text/plain": [
       "<AxesSubplot:xlabel='slope', ylabel='target'>"
      ]
     },
     "execution_count": 28,
     "metadata": {},
     "output_type": "execute_result"
    },
    {
     "data": {
      "image/png": "[encoded data removed]",
      "text/plain": [
       "<Figure size 1800x720 with 1 Axes>"
      ]
     },
     "metadata": {
      "needs_background": "light"
     },
     "output_type": "display_data"
    }
   ],
   "source": [
    "plt.figure(figsize=(25, 10))\n",
    "sns.barplot(data[\"slope\"],y)"
   ]
  },
  {
   "cell_type": "markdown",
   "id": "ecb74e52",
   "metadata": {},
   "source": [
    "# 4. Train Test dataset split"
   ]
  },
  {
   "cell_type": "code",
   "execution_count": 41,
   "id": "7cb589ae",
   "metadata": {},
   "outputs": [
    {
     "name": "stdout",
     "output_type": "stream",
     "text": [
      "Training features have 242 records and Testing features have 61 records.\n"
     ]
    }
   ],
   "source": [
    "from sklearn.model_selection import train_test_split\n",
    "\n",
    "predictors =data.drop(\"target\",axis=1)\n",
    "target =data[\"target\"]\n",
    "\n",
    "X_train,X_test,Y_train,Y_test = train_test_split(predictors,target,test_size=0.20,random_state=0)\n",
    "print(\"Training features have {0} records and Testing features have {1} records.\".\\\n",
    "     format(X_train.shape[0], X_test.shape[0]))"
   ]
  },
  {
   "cell_type": "code",
   "execution_count": 42,
   "id": "1214f720",
   "metadata": {},
   "outputs": [
    {
     "data": {
      "text/plain": [
       "(242, 13)"
      ]
     },
     "execution_count": 42,
     "metadata": {},
     "output_type": "execute_result"
    }
   ],
   "source": [
    "X_train.shape"
   ]
  },
  {
   "cell_type": "code",
   "execution_count": 43,
   "id": "b71ee6ce",
   "metadata": {},
   "outputs": [
    {
     "data": {
      "text/plain": [
       "(61, 13)"
      ]
     },
     "execution_count": 43,
     "metadata": {},
     "output_type": "execute_result"
    }
   ],
   "source": [
    "X_test.shape"
   ]
  },
  {
   "cell_type": "code",
   "execution_count": 44,
   "id": "49fc013e",
   "metadata": {
    "scrolled": true
   },
   "outputs": [
    {
     "data": {
      "text/plain": [
       "(242,)"
      ]
     },
     "execution_count": 44,
     "metadata": {},
     "output_type": "execute_result"
    }
   ],
   "source": [
    "Y_train.shape"
   ]
  },
  {
   "cell_type": "code",
   "execution_count": 23,
   "id": "f35d1a92",
   "metadata": {},
   "outputs": [
    {
     "data": {
      "text/plain": [
       "(61,)"
      ]
     },
     "execution_count": 23,
     "metadata": {},
     "output_type": "execute_result"
    }
   ],
   "source": [
    "Y_test.shape"
   ]
  },
  {
   "cell_type": "code",
   "execution_count": 45,
   "id": "5d482dc6",
   "metadata": {},
   "outputs": [],
   "source": [
    "#Importing Accuracy Score\n",
    "from sklearn.metrics import accuracy_score"
   ]
  },
  {
   "cell_type": "markdown",
   "id": "c8c7cf0a",
   "metadata": {},
   "source": [
    "# 5. Model Fitting"
   ]
  },
  {
   "cell_type": "markdown",
   "id": "45fe07de",
   "metadata": {},
   "source": [
    "# # Modelling and predicting with Machine Learning\n",
    "The main goal of the entire project is to predict heart disease occurrence with the highest accuracy. In order to achieve this, we will test several classification algorithms. This section includes all results obtained from the study and introduces the best performer according to accuracy metric. I have chosen several algorithms typical for solving supervised learning problems throughout classification methods.\n",
    "\n",
    "First of all, let's equip ourselves with a handy tool that benefits from the cohesion of SciKit Learn library and formulate a general function for training our models. The reason for displaying accuracy on both, train and test sets, is to allow us to evaluate whether the model overfits or underfits the data (so-called bias/variance tradeoff)."
   ]
  },
  {
   "cell_type": "code",
   "execution_count": 25,
   "id": "928971f8",
   "metadata": {},
   "outputs": [],
   "source": [
    "#model : Algorithm performance testing using Confusion matrix, Precision Score, Recall, F-Score"
   ]
  },
  {
   "cell_type": "code",
   "execution_count": 26,
   "id": "9bc7a051",
   "metadata": {},
   "outputs": [],
   "source": [
    "#Models: Support Vector Machine(SVM), Logistic Regression(LR), K-Nearest Neighbors, naive Bayes, Random Forest"
   ]
  },
  {
   "cell_type": "code",
   "execution_count": 46,
   "id": "3fafcf49",
   "metadata": {},
   "outputs": [],
   "source": [
    "def train_model(X_train, y_train, X_test, y_test, classifier, **kwargs):\n",
    "    \n",
    "    \"\"\"\n",
    "    Fit the chosen model and print out the score.\n",
    "    \n",
    "    \"\"\"\n",
    "    \n",
    "    # instantiate model\n",
    "    model = classifier(**kwargs)\n",
    "    \n",
    "    # train model\n",
    "    model.fit(X_train,y_train)\n",
    "    \n",
    "    # check accuracy and print out the results\n",
    "    fit_accuracy = model.score(X_train, y_train)\n",
    "    test_accuracy = model.score(X_test, y_test)\n",
    "    \n",
    "    print(f\"Train accuracy: {fit_accuracy:0.2%}\")\n",
    "    print(f\"Test accuracy: {test_accuracy:0.2%}\")\n",
    "    \n",
    "    return model"
   ]
  },
  {
   "cell_type": "markdown",
   "id": "30929438",
   "metadata": {},
   "source": [
    "# 1. LOGISTIC REGRESSION"
   ]
  },
  {
   "cell_type": "code",
   "execution_count": 47,
   "id": "d41ba884",
   "metadata": {},
   "outputs": [
    {
     "name": "stdout",
     "output_type": "stream",
     "text": [
      "[0 1 1 0 0 0 0 0 0 0 1 1 0 1 1 1 0 1 0 1 1 0 0 0 1 0 0 0 1 1 1 0 1 1 1 1 0\n",
      " 1 0 0 1 1 0 0 0 1 1 1 0 1 1 1 1 1 1 0 1 1 1 1 1]\n"
     ]
    }
   ],
   "source": [
    "from sklearn.linear_model import LogisticRegression\n",
    "logreg = LogisticRegression()\n",
    "\n",
    "logreg.fit(X_train, Y_train)\n",
    "\n",
    "y_pred_lr = logreg.predict(X_test)\n",
    "print(y_pred_lr)"
   ]
  },
  {
   "cell_type": "code",
   "execution_count": 48,
   "id": "40132632",
   "metadata": {},
   "outputs": [
    {
     "name": "stdout",
     "output_type": "stream",
     "text": [
      "The accuracy score achieved using Logistic Regression is: 85.25 %\n"
     ]
    }
   ],
   "source": [
    "score_lr = round(accuracy_score(y_pred_lr,Y_test)*100,2)\n",
    "\n",
    "print(\"The accuracy score achieved using Logistic Regression is: \"+str(score_lr)+\" %\")"
   ]
  },
  {
   "cell_type": "code",
   "execution_count": 49,
   "id": "7655a1ff",
   "metadata": {
    "scrolled": true
   },
   "outputs": [
    {
     "name": "stdout",
     "output_type": "stream",
     "text": [
      "Train accuracy: 85.12%\n",
      "Test accuracy: 85.25%\n"
     ]
    }
   ],
   "source": [
    "from sklearn.linear_model import LogisticRegression\n",
    "model = train_model(X_train, Y_train, X_test, Y_test, LogisticRegression)"
   ]
  },
  {
   "cell_type": "code",
   "execution_count": 31,
   "id": "a6072b43",
   "metadata": {},
   "outputs": [
    {
     "data": {
      "text/plain": [
       "0.9344262295081968"
      ]
     },
     "execution_count": 31,
     "metadata": {},
     "output_type": "execute_result"
    }
   ],
   "source": [
    "#Logistic Regression supports only solvers in ['liblinear', 'newton-cg'<-93.44, 'lbfgs'<-91.8, 'sag'<-72.13, 'saga'<-72.13]\n",
    "clf = LogisticRegression(random_state=0, solver='newton-cg',multi_class='multinomial').fit(X_test, Y_test)\n",
    "#The solver for weight optimization,'lbfgs' is an optimizer in the family of quasi-Newton methods.\n",
    "clf.score(X_test, Y_test)"
   ]
  },
  {
   "cell_type": "markdown",
   "id": "4ca6f3c6",
   "metadata": {},
   "source": [
    "CONFUSION MATRIX"
   ]
  },
  {
   "cell_type": "code",
   "execution_count": 32,
   "id": "3bc4180e",
   "metadata": {},
   "outputs": [],
   "source": [
    "from sklearn.metrics import confusion_matrix"
   ]
  },
  {
   "cell_type": "code",
   "execution_count": 33,
   "id": "132723a3",
   "metadata": {},
   "outputs": [],
   "source": [
    "matrix= confusion_matrix(Y_test, y_pred_lr)"
   ]
  },
  {
   "cell_type": "code",
   "execution_count": 34,
   "id": "26a6fde0",
   "metadata": {
    "scrolled": false
   },
   "outputs": [
    {
     "data": {
      "text/plain": [
       "<AxesSubplot:>"
      ]
     },
     "execution_count": 34,
     "metadata": {},
     "output_type": "execute_result"
    },
    {
     "data": {
      "image/png": "[encoded data removed]",
      "text/plain": [
       "<Figure size 432x288 with 2 Axes>"
      ]
     },
     "metadata": {
      "needs_background": "light"
     },
     "output_type": "display_data"
    }
   ],
   "source": [
    "sns.heatmap(matrix,annot = True, fmt = \"d\")\n",
    "#FMT = D IS FORMAT = DEFAULT"
   ]
  },
  {
   "cell_type": "markdown",
   "id": "e39c6c99",
   "metadata": {},
   "source": [
    "PRECISION SCORE"
   ]
  },
  {
   "cell_type": "code",
   "execution_count": 35,
   "id": "48d91be9",
   "metadata": {},
   "outputs": [],
   "source": [
    "from sklearn.metrics import precision_score"
   ]
  },
  {
   "cell_type": "code",
   "execution_count": 36,
   "id": "8852e966",
   "metadata": {},
   "outputs": [],
   "source": [
    "precision = precision_score(Y_test, y_pred_lr)"
   ]
  },
  {
   "cell_type": "code",
   "execution_count": 37,
   "id": "4accec4f",
   "metadata": {},
   "outputs": [
    {
     "name": "stdout",
     "output_type": "stream",
     "text": [
      "Precision:  0.8571428571428571\n"
     ]
    }
   ],
   "source": [
    "print(\"Precision: \",precision)"
   ]
  },
  {
   "cell_type": "markdown",
   "id": "1b1a4d02",
   "metadata": {},
   "source": [
    "RECALL"
   ]
  },
  {
   "cell_type": "code",
   "execution_count": 38,
   "id": "0a5d09cc",
   "metadata": {},
   "outputs": [],
   "source": [
    "from sklearn.metrics import recall_score"
   ]
  },
  {
   "cell_type": "code",
   "execution_count": 39,
   "id": "c15b51c5",
   "metadata": {},
   "outputs": [],
   "source": [
    "recall = recall_score(Y_test, y_pred_lr)"
   ]
  },
  {
   "cell_type": "code",
   "execution_count": 40,
   "id": "c0eed915",
   "metadata": {},
   "outputs": [
    {
     "name": "stdout",
     "output_type": "stream",
     "text": [
      "Recall is:  0.8823529411764706\n"
     ]
    }
   ],
   "source": [
    "print(\"Recall is: \",recall)"
   ]
  },
  {
   "cell_type": "markdown",
   "id": "27403a5b",
   "metadata": {},
   "source": [
    "F-SCORE"
   ]
  },
  {
   "cell_type": "code",
   "execution_count": 41,
   "id": "8c25aa7b",
   "metadata": {},
   "outputs": [
    {
     "name": "stdout",
     "output_type": "stream",
     "text": [
      "0.8695652173913043\n"
     ]
    }
   ],
   "source": [
    "#balance of precision and recall score\n",
    "print((2*precision*recall)/(precision+recall))"
   ]
  },
  {
   "cell_type": "code",
   "execution_count": 42,
   "id": "605269dc",
   "metadata": {
    "scrolled": true
   },
   "outputs": [
    {
     "data": {
      "text/html": [
       "<div>\n",
       "<style scoped>\n",
       "    .dataframe tbody tr th:only-of-type {\n",
       "        vertical-align: middle;\n",
       "    }\n",
       "\n",
       "    .dataframe tbody tr th {\n",
       "        vertical-align: top;\n",
       "    }\n",
       "\n",
       "    .dataframe thead th {\n",
       "        text-align: right;\n",
       "    }\n",
       "</style>\n",
       "<table border=\"1\" class=\"dataframe\">\n",
       "  <thead>\n",
       "    <tr style=\"text-align: right;\">\n",
       "      <th>col_0</th>\n",
       "      <th>0</th>\n",
       "      <th>1</th>\n",
       "    </tr>\n",
       "    <tr>\n",
       "      <th>target</th>\n",
       "      <th></th>\n",
       "      <th></th>\n",
       "    </tr>\n",
       "  </thead>\n",
       "  <tbody>\n",
       "    <tr>\n",
       "      <th>0</th>\n",
       "      <td>22</td>\n",
       "      <td>5</td>\n",
       "    </tr>\n",
       "    <tr>\n",
       "      <th>1</th>\n",
       "      <td>4</td>\n",
       "      <td>30</td>\n",
       "    </tr>\n",
       "  </tbody>\n",
       "</table>\n",
       "</div>"
      ],
      "text/plain": [
       "col_0    0   1\n",
       "target        \n",
       "0       22   5\n",
       "1        4  30"
      ]
     },
     "execution_count": 42,
     "metadata": {},
     "output_type": "execute_result"
    }
   ],
   "source": [
    "#cm using bad style\n",
    "CM =pd.crosstab(Y_test, y_pred_lr)\n",
    "CM"
   ]
  },
  {
   "cell_type": "code",
   "execution_count": 43,
   "id": "1ad73510",
   "metadata": {},
   "outputs": [],
   "source": [
    "TN=CM.iloc[0,0]\n",
    "FP=CM.iloc[0,1]\n",
    "FN=CM.iloc[1,0]\n",
    "TP=CM.iloc[1,1]"
   ]
  },
  {
   "cell_type": "code",
   "execution_count": 44,
   "id": "72916366",
   "metadata": {},
   "outputs": [
    {
     "data": {
      "text/plain": [
       "11.764705882352942"
      ]
     },
     "execution_count": 44,
     "metadata": {},
     "output_type": "execute_result"
    }
   ],
   "source": [
    "#False Negative rate of the model\n",
    "fnr=FN*100/(FN+TP)\n",
    "fnr"
   ]
  },
  {
   "cell_type": "markdown",
   "id": "7887edd1",
   "metadata": {},
   "source": [
    "# 2. RANDOM FOREST"
   ]
  },
  {
   "cell_type": "code",
   "execution_count": 45,
   "id": "1d24d139",
   "metadata": {},
   "outputs": [
    {
     "name": "stdout",
     "output_type": "stream",
     "text": [
      "[0 0 0 0 0 1 0 0 0 0 1 1 0 1 1 1 0 1 0 1 1 0 0 0 1 0 0 0 1 1 1 0 1 1 1 0 0\n",
      " 1 0 0 1 1 1 0 0 1 1 0 0 1 1 1 1 1 1 0 1 1 1 1 1]\n"
     ]
    }
   ],
   "source": [
    "from sklearn.ensemble import RandomForestClassifier\n",
    "randfor = RandomForestClassifier(n_estimators=100, random_state=0)\n",
    "\n",
    "randfor.fit(X_train, Y_train)\n",
    "\n",
    "y_pred_rf = randfor.predict(X_test)\n",
    "print(y_pred_rf)"
   ]
  },
  {
   "cell_type": "markdown",
   "id": "5ef99696",
   "metadata": {},
   "source": [
    "Learning curve for Training score & cross validation score"
   ]
  },
  {
   "cell_type": "code",
   "execution_count": 46,
   "id": "6815ffa2",
   "metadata": {},
   "outputs": [
    {
     "data": {
      "image/png": "[encoded data removed]",
      "text/plain": [
       "<Figure size 432x288 with 1 Axes>"
      ]
     },
     "metadata": {
      "needs_background": "light"
     },
     "output_type": "display_data"
    }
   ],
   "source": [
    "from sklearn.model_selection import learning_curve\n",
    "# Create CV training and test scores for various training set sizes\n",
    "train_sizes, train_scores, test_scores = learning_curve(RandomForestClassifier(), \n",
    "                                                        X_train, \n",
    "                                                        Y_train,\n",
    "                                                        # Number of folds in cross-validation\n",
    "                                                        cv=10,\n",
    "                                                        # Evaluation metric\n",
    "                                                        scoring='accuracy',\n",
    "                                                        # Use all computer cores\n",
    "                                                        n_jobs=-1, \n",
    "                                                        # 50 different sizes of the training set\n",
    "                                                        train_sizes=np.linspace(0.01, 1.0, 50))\n",
    "\n",
    "# Create means and standard deviations of training set scores\n",
    "train_mean = np.mean(train_scores, axis=1)\n",
    "train_std = np.std(train_scores, axis=1)\n",
    "\n",
    "# Create means and standard deviations of test set scores\n",
    "test_mean = np.mean(test_scores, axis=1)\n",
    "test_std = np.std(test_scores, axis=1)\n",
    "\n",
    "# Draw lines\n",
    "plt.plot(train_sizes, train_mean, '--', color=\"#111111\",  label=\"Training score\")\n",
    "plt.plot(train_sizes, test_mean, color=\"#111111\", label=\"Cross-validation score\")\n",
    "\n",
    "# Draw bands\n",
    "plt.fill_between(train_sizes, train_mean - train_std, train_mean + train_std, color=\"#DDDDDD\")\n",
    "plt.fill_between(train_sizes, test_mean - test_std, test_mean + test_std, color=\"#DDDDDD\")\n",
    "\n",
    "# Create plot\n",
    "plt.title(\"Learning Curve\")\n",
    "plt.xlabel(\"Training Set Size\"), plt.ylabel(\"Accuracy Score\"), plt.legend(loc=\"best\")\n",
    "plt.tight_layout()\n",
    "plt.show()"
   ]
  },
  {
   "cell_type": "code",
   "execution_count": 47,
   "id": "d76ead27",
   "metadata": {},
   "outputs": [
    {
     "name": "stdout",
     "output_type": "stream",
     "text": [
      "The accuracy score achieved using Random Forest is: 88.52 %\n"
     ]
    }
   ],
   "source": [
    "score_rf = round(accuracy_score(y_pred_rf,Y_test)*100,2)\n",
    "\n",
    "print(\"The accuracy score achieved using Random Forest is: \"+str(score_rf)+\" %\")"
   ]
  },
  {
   "cell_type": "code",
   "execution_count": 48,
   "id": "f122e0d0",
   "metadata": {},
   "outputs": [
    {
     "name": "stdout",
     "output_type": "stream",
     "text": [
      "Accuracy on training set: 1.000\n",
      "Accuracy on test set: 0.885\n"
     ]
    }
   ],
   "source": [
    "#Random forest with 100 trees\n",
    "from sklearn.ensemble import RandomForestClassifier\n",
    "rf = RandomForestClassifier(n_estimators=100, random_state=0)\n",
    "rf.fit(X_train, Y_train)\n",
    "print(\"Accuracy on training set: {:.3f}\".format(rf.score(X_train, Y_train)))\n",
    "print(\"Accuracy on test set: {:.3f}\".format(rf.score(X_test, Y_test)))"
   ]
  },
  {
   "cell_type": "code",
   "execution_count": 49,
   "id": "f6d18534",
   "metadata": {},
   "outputs": [
    {
     "name": "stdout",
     "output_type": "stream",
     "text": [
      "Accuracy on training set: 0.876\n",
      "Accuracy on test set: 0.869\n"
     ]
    }
   ],
   "source": [
    "#Pruning ddepth of the trees and checking accuracy\n",
    "rf1 = RandomForestClassifier(max_depth=3, n_estimators=100, random_state=0)\n",
    "rf1.fit(X_train, Y_train)\n",
    "print(\"Accuracy on training set: {:.3f}\".format(rf1.score(X_train, Y_train)))\n",
    "print(\"Accuracy on test set: {:.3f}\".format(rf1.score(X_test, Y_test)))"
   ]
  },
  {
   "cell_type": "markdown",
   "id": "421e10e5",
   "metadata": {},
   "source": [
    "performance metrics\n",
    "-Accuracy: is the ratio between the number of correct predictions and total number of predications.\n",
    "\n",
    "$acc = \\frac{TP + TN}{TP + TN + FP + FN}$\n",
    "\n",
    "-Precision: is the ratio between the number of correct positives and the number of true positives plus the number of false positives.\n",
    "\n",
    "$Precision (p) = \\frac{TP}{TP + FP}$\n",
    "\n",
    "-Recall: is the ratio between the number of correct positives and the number of true positives plus the number of false negatives.\n",
    "\n",
    "$recall = \\frac{TP}{TP + FN}$\n",
    "\n",
    "-F-score: is known as the harmonic mean of precision and recall.\n",
    "\n",
    "$acc = \\frac{1}{\\frac{1}{2}(\\frac{1}{p}+\\frac{1}{r})} = \\frac{2pr}{p+r}$\n",
    "\n",
    "-Problem characteristics in context of our case study:\n",
    "\n",
    "TP = True positive (has heart disease). TN = True negative (has no heart disease). FP = False positive (has no heart disease) FN = False negative (has heart disease)"
   ]
  },
  {
   "cell_type": "markdown",
   "id": "ec65501b",
   "metadata": {},
   "source": [
    "CONFUSION MATRIX"
   ]
  },
  {
   "cell_type": "code",
   "execution_count": 50,
   "id": "fb039ab2",
   "metadata": {},
   "outputs": [],
   "source": [
    "from sklearn.metrics import confusion_matrix"
   ]
  },
  {
   "cell_type": "code",
   "execution_count": 52,
   "id": "e19a9341",
   "metadata": {},
   "outputs": [],
   "source": [
    "matrix= confusion_matrix(Y_test, y_pred_rf)"
   ]
  },
  {
   "cell_type": "code",
   "execution_count": 53,
   "id": "6ba7a9e9",
   "metadata": {},
   "outputs": [
    {
     "data": {
      "text/plain": [
       "<AxesSubplot:>"
      ]
     },
     "execution_count": 53,
     "metadata": {},
     "output_type": "execute_result"
    },
    {
     "data": {
      "image/png": "[encoded data removed]",
      "text/plain": [
       "<Figure size 432x288 with 2 Axes>"
      ]
     },
     "metadata": {
      "needs_background": "light"
     },
     "output_type": "display_data"
    }
   ],
   "source": [
    "sns.heatmap(matrix,annot = True, fmt = \"d\")"
   ]
  },
  {
   "cell_type": "markdown",
   "id": "e6b650f6",
   "metadata": {},
   "source": [
    "PRECISION SCORE"
   ]
  },
  {
   "cell_type": "code",
   "execution_count": 55,
   "id": "2fdb69ed",
   "metadata": {},
   "outputs": [],
   "source": [
    "from sklearn.metrics import precision_score"
   ]
  },
  {
   "cell_type": "code",
   "execution_count": 56,
   "id": "29b94534",
   "metadata": {},
   "outputs": [],
   "source": [
    "precision = precision_score(Y_test, y_pred_rf)"
   ]
  },
  {
   "cell_type": "code",
   "execution_count": 57,
   "id": "150e6c81",
   "metadata": {},
   "outputs": [
    {
     "name": "stdout",
     "output_type": "stream",
     "text": [
      "Precision:  0.9090909090909091\n"
     ]
    }
   ],
   "source": [
    "print(\"Precision: \",precision)"
   ]
  },
  {
   "cell_type": "markdown",
   "id": "d14e76c3",
   "metadata": {},
   "source": [
    "RECALL"
   ]
  },
  {
   "cell_type": "code",
   "execution_count": 62,
   "id": "5b46f6ff",
   "metadata": {},
   "outputs": [],
   "source": [
    "from sklearn.metrics import recall_score"
   ]
  },
  {
   "cell_type": "code",
   "execution_count": 63,
   "id": "da479cb4",
   "metadata": {},
   "outputs": [],
   "source": [
    "recall = recall_score(Y_test, y_pred_rf)"
   ]
  },
  {
   "cell_type": "code",
   "execution_count": 65,
   "id": "bcc4a57e",
   "metadata": {},
   "outputs": [
    {
     "name": "stdout",
     "output_type": "stream",
     "text": [
      "Recall is:  0.8823529411764706\n"
     ]
    }
   ],
   "source": [
    "print(\"Recall is: \",recall)"
   ]
  },
  {
   "cell_type": "markdown",
   "id": "d098a42d",
   "metadata": {},
   "source": [
    "F SCORE"
   ]
  },
  {
   "cell_type": "code",
   "execution_count": 66,
   "id": "52390b0c",
   "metadata": {},
   "outputs": [
    {
     "name": "stdout",
     "output_type": "stream",
     "text": [
      "0.8955223880597014\n"
     ]
    }
   ],
   "source": [
    "print((2*precision*recall)/(precision+recall))"
   ]
  },
  {
   "cell_type": "code",
   "execution_count": 67,
   "id": "8842fdb1",
   "metadata": {},
   "outputs": [
    {
     "data": {
      "text/html": [
       "<div>\n",
       "<style scoped>\n",
       "    .dataframe tbody tr th:only-of-type {\n",
       "        vertical-align: middle;\n",
       "    }\n",
       "\n",
       "    .dataframe tbody tr th {\n",
       "        vertical-align: top;\n",
       "    }\n",
       "\n",
       "    .dataframe thead th {\n",
       "        text-align: right;\n",
       "    }\n",
       "</style>\n",
       "<table border=\"1\" class=\"dataframe\">\n",
       "  <thead>\n",
       "    <tr style=\"text-align: right;\">\n",
       "      <th>col_0</th>\n",
       "      <th>0</th>\n",
       "      <th>1</th>\n",
       "    </tr>\n",
       "    <tr>\n",
       "      <th>target</th>\n",
       "      <th></th>\n",
       "      <th></th>\n",
       "    </tr>\n",
       "  </thead>\n",
       "  <tbody>\n",
       "    <tr>\n",
       "      <th>0</th>\n",
       "      <td>24</td>\n",
       "      <td>3</td>\n",
       "    </tr>\n",
       "    <tr>\n",
       "      <th>1</th>\n",
       "      <td>4</td>\n",
       "      <td>30</td>\n",
       "    </tr>\n",
       "  </tbody>\n",
       "</table>\n",
       "</div>"
      ],
      "text/plain": [
       "col_0    0   1\n",
       "target        \n",
       "0       24   3\n",
       "1        4  30"
      ]
     },
     "execution_count": 67,
     "metadata": {},
     "output_type": "execute_result"
    }
   ],
   "source": [
    "#CM USING BAD STYLE\n",
    "CM =pd.crosstab(Y_test, y_pred_rf)\n",
    "CM"
   ]
  },
  {
   "cell_type": "code",
   "execution_count": 68,
   "id": "b6be8fed",
   "metadata": {},
   "outputs": [],
   "source": [
    "TN=CM.iloc[0,0]\n",
    "FP=CM.iloc[0,1]\n",
    "FN=CM.iloc[1,0]\n",
    "TP=CM.iloc[1,1]"
   ]
  },
  {
   "cell_type": "code",
   "execution_count": 69,
   "id": "185223db",
   "metadata": {},
   "outputs": [
    {
     "data": {
      "text/plain": [
       "11.764705882352942"
      ]
     },
     "execution_count": 69,
     "metadata": {},
     "output_type": "execute_result"
    }
   ],
   "source": [
    "#FALSE NEGATIVE RATE\n",
    "fnr=FN*100/(FN+TP)\n",
    "fnr"
   ]
  },
  {
   "cell_type": "markdown",
   "id": "c23a5c05",
   "metadata": {},
   "source": [
    "# 3. NAIVE BAYES"
   ]
  },
  {
   "cell_type": "code",
   "execution_count": 70,
   "id": "4c96a224",
   "metadata": {},
   "outputs": [
    {
     "name": "stdout",
     "output_type": "stream",
     "text": [
      "Train accuracy: 83.47%\n",
      "Test accuracy: 85.25%\n",
      "[0 1 1 0 0 1 0 0 0 0 1 1 0 1 1 1 0 1 0 1 1 1 0 0 1 0 0 1 1 1 0 0 1 1 1 0 0\n",
      " 1 0 0 1 1 0 0 1 1 1 1 0 1 1 1 1 1 1 0 1 1 1 1 1]\n"
     ]
    }
   ],
   "source": [
    "from sklearn.naive_bayes import GaussianNB\n",
    "nb = train_model(X_train, Y_train, X_test, Y_test, GaussianNB)\n",
    "\n",
    "nb.fit(X_train, Y_train)\n",
    "\n",
    "y_pred_nb = nb.predict(X_test)\n",
    "print(y_pred_nb)"
   ]
  },
  {
   "cell_type": "code",
   "execution_count": 71,
   "id": "d97d09af",
   "metadata": {},
   "outputs": [
    {
     "name": "stdout",
     "output_type": "stream",
     "text": [
      "The accuracy score achieved using Naive Bayes is: 85.25 %\n"
     ]
    }
   ],
   "source": [
    "score_nb = round(accuracy_score(y_pred_nb,Y_test)*100,2)\n",
    "\n",
    "print(\"The accuracy score achieved using Naive Bayes is: \"+str(score_nb)+\" %\")"
   ]
  },
  {
   "cell_type": "code",
   "execution_count": 72,
   "id": "e4c27a00",
   "metadata": {},
   "outputs": [
    {
     "name": "stdout",
     "output_type": "stream",
     "text": [
      "Train accuracy: 83.47%\n",
      "Test accuracy: 85.25%\n"
     ]
    }
   ],
   "source": [
    "#Gaussian Naive Bayes\n",
    "from sklearn.naive_bayes import GaussianNB\n",
    "model = train_model(X_train, Y_train, X_test, Y_test, GaussianNB)"
   ]
  },
  {
   "cell_type": "markdown",
   "id": "a83681de",
   "metadata": {},
   "source": [
    "CONFUSION MATRIX"
   ]
  },
  {
   "cell_type": "code",
   "execution_count": 74,
   "id": "43ccb552",
   "metadata": {},
   "outputs": [],
   "source": [
    "from sklearn.metrics import confusion_matrix"
   ]
  },
  {
   "cell_type": "code",
   "execution_count": 75,
   "id": "6c57e614",
   "metadata": {},
   "outputs": [],
   "source": [
    "matrix= confusion_matrix(Y_test, y_pred_nb)"
   ]
  },
  {
   "cell_type": "code",
   "execution_count": 76,
   "id": "121cc25a",
   "metadata": {},
   "outputs": [
    {
     "data": {
      "text/plain": [
       "<AxesSubplot:>"
      ]
     },
     "execution_count": 76,
     "metadata": {},
     "output_type": "execute_result"
    },
    {
     "data": {
      "image/png": "[encoded data removed]",
      "text/plain": [
       "<Figure size 432x288 with 2 Axes>"
      ]
     },
     "metadata": {
      "needs_background": "light"
     },
     "output_type": "display_data"
    }
   ],
   "source": [
    "sns.heatmap(matrix,annot = True, fmt = \"d\")"
   ]
  },
  {
   "cell_type": "markdown",
   "id": "d7fadfea",
   "metadata": {},
   "source": [
    "PRECISION SCORE"
   ]
  },
  {
   "cell_type": "code",
   "execution_count": 77,
   "id": "971677cc",
   "metadata": {},
   "outputs": [],
   "source": [
    "from sklearn.metrics import precision_score"
   ]
  },
  {
   "cell_type": "code",
   "execution_count": 78,
   "id": "cb6a96a1",
   "metadata": {},
   "outputs": [],
   "source": [
    "precision = precision_score(Y_test, y_pred_nb)"
   ]
  },
  {
   "cell_type": "code",
   "execution_count": 79,
   "id": "e1d8a150",
   "metadata": {},
   "outputs": [
    {
     "name": "stdout",
     "output_type": "stream",
     "text": [
      "Precision:  0.8378378378378378\n"
     ]
    }
   ],
   "source": [
    "print(\"Precision: \",precision)"
   ]
  },
  {
   "cell_type": "markdown",
   "id": "a8fe2523",
   "metadata": {},
   "source": [
    "RECALL"
   ]
  },
  {
   "cell_type": "raw",
   "id": "aa4ffb15",
   "metadata": {},
   "source": [
    "from sklearn.metrics import recall_score"
   ]
  },
  {
   "cell_type": "code",
   "execution_count": 81,
   "id": "963ee928",
   "metadata": {},
   "outputs": [],
   "source": [
    "recall = recall_score(Y_test, y_pred_nb)"
   ]
  },
  {
   "cell_type": "code",
   "execution_count": 82,
   "id": "9608c505",
   "metadata": {},
   "outputs": [
    {
     "name": "stdout",
     "output_type": "stream",
     "text": [
      "Recall is:  0.9117647058823529\n"
     ]
    }
   ],
   "source": [
    "print(\"Recall is: \",recall)"
   ]
  },
  {
   "cell_type": "markdown",
   "id": "eff2f0e1",
   "metadata": {},
   "source": [
    "F_SCORE"
   ]
  },
  {
   "cell_type": "code",
   "execution_count": 83,
   "id": "b512d102",
   "metadata": {},
   "outputs": [
    {
     "name": "stdout",
     "output_type": "stream",
     "text": [
      "0.8732394366197184\n"
     ]
    }
   ],
   "source": [
    "print((2*precision*recall)/(precision+recall))"
   ]
  },
  {
   "cell_type": "code",
   "execution_count": 84,
   "id": "4761e956",
   "metadata": {},
   "outputs": [
    {
     "data": {
      "text/html": [
       "<div>\n",
       "<style scoped>\n",
       "    .dataframe tbody tr th:only-of-type {\n",
       "        vertical-align: middle;\n",
       "    }\n",
       "\n",
       "    .dataframe tbody tr th {\n",
       "        vertical-align: top;\n",
       "    }\n",
       "\n",
       "    .dataframe thead th {\n",
       "        text-align: right;\n",
       "    }\n",
       "</style>\n",
       "<table border=\"1\" class=\"dataframe\">\n",
       "  <thead>\n",
       "    <tr style=\"text-align: right;\">\n",
       "      <th>col_0</th>\n",
       "      <th>0</th>\n",
       "      <th>1</th>\n",
       "    </tr>\n",
       "    <tr>\n",
       "      <th>target</th>\n",
       "      <th></th>\n",
       "      <th></th>\n",
       "    </tr>\n",
       "  </thead>\n",
       "  <tbody>\n",
       "    <tr>\n",
       "      <th>0</th>\n",
       "      <td>21</td>\n",
       "      <td>6</td>\n",
       "    </tr>\n",
       "    <tr>\n",
       "      <th>1</th>\n",
       "      <td>3</td>\n",
       "      <td>31</td>\n",
       "    </tr>\n",
       "  </tbody>\n",
       "</table>\n",
       "</div>"
      ],
      "text/plain": [
       "col_0    0   1\n",
       "target        \n",
       "0       21   6\n",
       "1        3  31"
      ]
     },
     "execution_count": 84,
     "metadata": {},
     "output_type": "execute_result"
    }
   ],
   "source": [
    "#BAD CM STYLE\n",
    "CM = pd.crosstab(Y_test, y_pred_nb)\n",
    "CM"
   ]
  },
  {
   "cell_type": "code",
   "execution_count": 85,
   "id": "6502989e",
   "metadata": {},
   "outputs": [],
   "source": [
    "TN=CM.iloc[0,0]\n",
    "FP=CM.iloc[0,1]\n",
    "FN=CM.iloc[1,0]\n",
    "TP=CM.iloc[1,1]"
   ]
  },
  {
   "cell_type": "code",
   "execution_count": 86,
   "id": "db456fd2",
   "metadata": {},
   "outputs": [
    {
     "data": {
      "text/plain": [
       "8.823529411764707"
      ]
     },
     "execution_count": 86,
     "metadata": {},
     "output_type": "execute_result"
    }
   ],
   "source": [
    "#FALSE NEGATIVE RATE OF THE MODEL\n",
    "fnr = FN*100/(FN+TP)\n",
    "fnr"
   ]
  },
  {
   "cell_type": "markdown",
   "id": "ae280c68",
   "metadata": {},
   "source": [
    "# 4. KNN(K NEAREST NEIGHBORS)"
   ]
  },
  {
   "cell_type": "code",
   "execution_count": 87,
   "id": "3331bce6",
   "metadata": {},
   "outputs": [
    {
     "name": "stdout",
     "output_type": "stream",
     "text": [
      "Train accuracy: 71.90%\n",
      "Test accuracy: 68.85%\n",
      "[0 0 1 0 1 1 0 0 0 0 1 1 0 1 1 1 0 1 0 1 1 1 0 0 0 0 1 0 1 1 0 0 1 0 1 0 0\n",
      " 1 0 1 0 1 1 0 0 1 1 1 1 1 1 0 1 0 1 0 0 1 0 1 0]\n"
     ]
    }
   ],
   "source": [
    "from sklearn.neighbors import KNeighborsClassifier\n",
    "knn = train_model(X_train, Y_train, X_test, Y_test, KNeighborsClassifier, n_neighbors=8)\n",
    "\n",
    "knn.fit(X_train, Y_train)\n",
    "\n",
    "y_pred_knn = knn.predict(X_test)\n",
    "print(y_pred_knn)"
   ]
  },
  {
   "cell_type": "code",
   "execution_count": 88,
   "id": "30b22afc",
   "metadata": {},
   "outputs": [
    {
     "name": "stdout",
     "output_type": "stream",
     "text": [
      "The accuracy score achieved using KNN is: 68.85 %\n"
     ]
    }
   ],
   "source": [
    "score_knn = round(accuracy_score(y_pred_knn,Y_test)*100,2)\n",
    "\n",
    "print(\"The accuracy score achieved using KNN is: \"+str(score_knn)+\" %\")"
   ]
  },
  {
   "cell_type": "code",
   "execution_count": 89,
   "id": "711e3336",
   "metadata": {},
   "outputs": [
    {
     "name": "stdout",
     "output_type": "stream",
     "text": [
      "Train accuracy: 78.10%\n",
      "Test accuracy: 63.93%\n"
     ]
    }
   ],
   "source": [
    "# KNN\n",
    "from sklearn.neighbors import KNeighborsClassifier\n",
    "model = train_model(X_train, Y_train, X_test, Y_test, KNeighborsClassifier)"
   ]
  },
  {
   "cell_type": "markdown",
   "id": "df78c280",
   "metadata": {},
   "source": [
    "Let's see if KNN can perform even better by trying different 'n_neighbours' inputs."
   ]
  },
  {
   "cell_type": "code",
   "execution_count": 90,
   "id": "95426cf9",
   "metadata": {},
   "outputs": [
    {
     "name": "stdout",
     "output_type": "stream",
     "text": [
      "n_neigbors = 1\n",
      "Train accuracy: 100.00%\n",
      "Test accuracy: 52.46%\n",
      "n_neigbors = 2\n",
      "Train accuracy: 79.75%\n",
      "Test accuracy: 59.02%\n",
      "n_neigbors = 3\n",
      "Train accuracy: 78.10%\n",
      "Test accuracy: 63.93%\n",
      "n_neigbors = 4\n",
      "Train accuracy: 76.03%\n",
      "Test accuracy: 63.93%\n",
      "n_neigbors = 5\n",
      "Train accuracy: 78.10%\n",
      "Test accuracy: 63.93%\n",
      "n_neigbors = 6\n",
      "Train accuracy: 74.38%\n",
      "Test accuracy: 65.57%\n",
      "n_neigbors = 7\n",
      "Train accuracy: 72.31%\n",
      "Test accuracy: 67.21%\n",
      "n_neigbors = 8\n",
      "Train accuracy: 71.90%\n",
      "Test accuracy: 68.85%\n",
      "n_neigbors = 9\n",
      "Train accuracy: 73.14%\n",
      "Test accuracy: 67.21%\n"
     ]
    }
   ],
   "source": [
    "# Seek optimal 'n_neighbours' parameter\n",
    "for i in range(1,10):\n",
    "    print(\"n_neigbors = \"+str(i))\n",
    "    train_model(X_train, Y_train, X_test, Y_test, KNeighborsClassifier, n_neighbors=i)"
   ]
  },
  {
   "cell_type": "markdown",
   "id": "6c729e7a",
   "metadata": {},
   "source": [
    "It turns out that value of n_neighbours (8) is optimal."
   ]
  },
  {
   "cell_type": "markdown",
   "id": "d4a01ffe",
   "metadata": {},
   "source": [
    "CONFUSION MATRIX"
   ]
  },
  {
   "cell_type": "code",
   "execution_count": 91,
   "id": "c3a2db11",
   "metadata": {},
   "outputs": [],
   "source": [
    "from sklearn.metrics import confusion_matrix"
   ]
  },
  {
   "cell_type": "code",
   "execution_count": 92,
   "id": "01008a0c",
   "metadata": {},
   "outputs": [],
   "source": [
    "matrix= confusion_matrix(Y_test, y_pred_knn)"
   ]
  },
  {
   "cell_type": "code",
   "execution_count": 93,
   "id": "615a9516",
   "metadata": {},
   "outputs": [
    {
     "data": {
      "text/plain": [
       "<AxesSubplot:>"
      ]
     },
     "execution_count": 93,
     "metadata": {},
     "output_type": "execute_result"
    },
    {
     "data": {
      "image/png": "[encoded data removed]",
      "text/plain": [
       "<Figure size 432x288 with 2 Axes>"
      ]
     },
     "metadata": {
      "needs_background": "light"
     },
     "output_type": "display_data"
    }
   ],
   "source": [
    "sns.heatmap(matrix,annot = True, fmt = \"d\")"
   ]
  },
  {
   "cell_type": "markdown",
   "id": "8648b65c",
   "metadata": {},
   "source": [
    "PRECISION SCORE"
   ]
  },
  {
   "cell_type": "code",
   "execution_count": 94,
   "id": "c1731a2b",
   "metadata": {},
   "outputs": [],
   "source": [
    "from sklearn.metrics import precision_score"
   ]
  },
  {
   "cell_type": "code",
   "execution_count": 95,
   "id": "53b75a5c",
   "metadata": {},
   "outputs": [],
   "source": [
    "precision = precision_score(Y_test, y_pred_knn)"
   ]
  },
  {
   "cell_type": "code",
   "execution_count": 96,
   "id": "dce18d5b",
   "metadata": {},
   "outputs": [
    {
     "name": "stdout",
     "output_type": "stream",
     "text": [
      "Precision:  0.7419354838709677\n"
     ]
    }
   ],
   "source": [
    "print(\"Precision: \",precision)"
   ]
  },
  {
   "cell_type": "markdown",
   "id": "9ba36839",
   "metadata": {},
   "source": [
    "RECALL"
   ]
  },
  {
   "cell_type": "code",
   "execution_count": 98,
   "id": "ef33e6f2",
   "metadata": {},
   "outputs": [],
   "source": [
    "from sklearn.metrics import recall_score"
   ]
  },
  {
   "cell_type": "code",
   "execution_count": 99,
   "id": "d054950f",
   "metadata": {},
   "outputs": [],
   "source": [
    "recall = recall_score(Y_test, y_pred_knn)"
   ]
  },
  {
   "cell_type": "code",
   "execution_count": 100,
   "id": "9580865e",
   "metadata": {},
   "outputs": [
    {
     "name": "stdout",
     "output_type": "stream",
     "text": [
      "Recall is:  0.6764705882352942\n"
     ]
    }
   ],
   "source": [
    "print(\"Recall is: \",recall)"
   ]
  },
  {
   "cell_type": "markdown",
   "id": "f22070f7",
   "metadata": {},
   "source": [
    "F_SCORE"
   ]
  },
  {
   "cell_type": "code",
   "execution_count": 101,
   "id": "4bec85d6",
   "metadata": {},
   "outputs": [
    {
     "name": "stdout",
     "output_type": "stream",
     "text": [
      "0.7076923076923077\n"
     ]
    }
   ],
   "source": [
    "print((2*precision*recall)/(precision+recall))"
   ]
  },
  {
   "cell_type": "code",
   "execution_count": 102,
   "id": "d0abe6f4",
   "metadata": {},
   "outputs": [
    {
     "data": {
      "text/html": [
       "<div>\n",
       "<style scoped>\n",
       "    .dataframe tbody tr th:only-of-type {\n",
       "        vertical-align: middle;\n",
       "    }\n",
       "\n",
       "    .dataframe tbody tr th {\n",
       "        vertical-align: top;\n",
       "    }\n",
       "\n",
       "    .dataframe thead th {\n",
       "        text-align: right;\n",
       "    }\n",
       "</style>\n",
       "<table border=\"1\" class=\"dataframe\">\n",
       "  <thead>\n",
       "    <tr style=\"text-align: right;\">\n",
       "      <th>col_0</th>\n",
       "      <th>0</th>\n",
       "      <th>1</th>\n",
       "    </tr>\n",
       "    <tr>\n",
       "      <th>target</th>\n",
       "      <th></th>\n",
       "      <th></th>\n",
       "    </tr>\n",
       "  </thead>\n",
       "  <tbody>\n",
       "    <tr>\n",
       "      <th>0</th>\n",
       "      <td>19</td>\n",
       "      <td>8</td>\n",
       "    </tr>\n",
       "    <tr>\n",
       "      <th>1</th>\n",
       "      <td>11</td>\n",
       "      <td>23</td>\n",
       "    </tr>\n",
       "  </tbody>\n",
       "</table>\n",
       "</div>"
      ],
      "text/plain": [
       "col_0    0   1\n",
       "target        \n",
       "0       19   8\n",
       "1       11  23"
      ]
     },
     "execution_count": 102,
     "metadata": {},
     "output_type": "execute_result"
    }
   ],
   "source": [
    "#BAD CM STYLE\n",
    "CM = pd.crosstab(Y_test, y_pred_knn)\n",
    "CM"
   ]
  },
  {
   "cell_type": "code",
   "execution_count": 104,
   "id": "fc44c8d6",
   "metadata": {},
   "outputs": [],
   "source": [
    "TN=CM.iloc[0,0]\n",
    "FP=CM.iloc[0,1]\n",
    "FN=CM.iloc[1,0]\n",
    "TP=CM.iloc[1,1]"
   ]
  },
  {
   "cell_type": "code",
   "execution_count": 105,
   "id": "308eda12",
   "metadata": {},
   "outputs": [
    {
     "data": {
      "text/plain": [
       "32.35294117647059"
      ]
     },
     "execution_count": 105,
     "metadata": {},
     "output_type": "execute_result"
    }
   ],
   "source": [
    "#FALSE NEGATIVE RATE OF THE MODEL\n",
    "fnr = FN*100/(FN+TP)\n",
    "fnr"
   ]
  },
  {
   "cell_type": "markdown",
   "id": "c1ed35bb",
   "metadata": {},
   "source": [
    "# 5. SVM(SUPPORT VECTOR MACHINE)"
   ]
  },
  {
   "cell_type": "code",
   "execution_count": 155,
   "id": "9f67d0c0",
   "metadata": {},
   "outputs": [
    {
     "name": "stdout",
     "output_type": "stream",
     "text": [
      "[0 1 1 0 0 1 0 0 0 0 1 1 0 1 1 1 0 1 0 1 1 0 0 0 1 1 0 0 1 1 1 0 1 1 1 1 0\n",
      " 1 0 0 1 1 0 0 0 1 1 1 0 1 1 1 1 1 1 0 1 1 1 1 1]\n"
     ]
    }
   ],
   "source": [
    "from sklearn import svm\n",
    "from sklearn.svm import LinearSVC\n",
    "\n",
    "sv = svm.SVC(kernel='linear')\n",
    "\n",
    "sv.fit(X_train, Y_train)\n",
    "\n",
    "Y_pred_svm = sv.predict(X_test)\n",
    "\n",
    "print(Y_pred_svm)"
   ]
  },
  {
   "cell_type": "code",
   "execution_count": 156,
   "id": "83352820",
   "metadata": {},
   "outputs": [
    {
     "name": "stdout",
     "output_type": "stream",
     "text": [
      "The accuracy score achieved using Linear SVM is: 81.97 %\n"
     ]
    }
   ],
   "source": [
    "score_svm = round(accuracy_score(Y_pred_svm,Y_test)*100,2)\n",
    "\n",
    "print(\"The accuracy score achieved using Linear SVM is: \"+str(score_svm)+\" %\")"
   ]
  },
  {
   "cell_type": "code",
   "execution_count": 157,
   "id": "7532d02a",
   "metadata": {},
   "outputs": [],
   "source": [
    "from sklearn.metrics import confusion_matrix"
   ]
  },
  {
   "cell_type": "code",
   "execution_count": 158,
   "id": "aababc81",
   "metadata": {},
   "outputs": [],
   "source": [
    "matrix= confusion_matrix(Y_test, Y_pred_svm)"
   ]
  },
  {
   "cell_type": "code",
   "execution_count": 159,
   "id": "be887a64",
   "metadata": {},
   "outputs": [
    {
     "data": {
      "text/plain": [
       "<AxesSubplot:>"
      ]
     },
     "execution_count": 159,
     "metadata": {},
     "output_type": "execute_result"
    },
    {
     "data": {
      "image/png": "[encoded data removed]",
      "text/plain": [
       "<Figure size 1080x576 with 2 Axes>"
      ]
     },
     "metadata": {},
     "output_type": "display_data"
    }
   ],
   "source": [
    "sns.heatmap(matrix,annot = True, fmt = \"d\")"
   ]
  },
  {
   "cell_type": "markdown",
   "id": "8823e494",
   "metadata": {},
   "source": [
    "PRECISION SCORE"
   ]
  },
  {
   "cell_type": "code",
   "execution_count": 160,
   "id": "c89aa1eb",
   "metadata": {},
   "outputs": [],
   "source": [
    "from sklearn.metrics import precision_score"
   ]
  },
  {
   "cell_type": "code",
   "execution_count": 161,
   "id": "67ab0bd4",
   "metadata": {},
   "outputs": [],
   "source": [
    "precision = precision_score(Y_test, Y_pred_svm)"
   ]
  },
  {
   "cell_type": "code",
   "execution_count": 162,
   "id": "73375233",
   "metadata": {},
   "outputs": [
    {
     "name": "stdout",
     "output_type": "stream",
     "text": [
      "Precision:  0.8108108108108109\n"
     ]
    }
   ],
   "source": [
    "print(\"Precision: \",precision)"
   ]
  },
  {
   "cell_type": "markdown",
   "id": "aeaa0fee",
   "metadata": {},
   "source": [
    "RECALL"
   ]
  },
  {
   "cell_type": "code",
   "execution_count": 163,
   "id": "80a8a458",
   "metadata": {},
   "outputs": [],
   "source": [
    "from sklearn.metrics import recall_score"
   ]
  },
  {
   "cell_type": "code",
   "execution_count": 164,
   "id": "9db049a5",
   "metadata": {},
   "outputs": [],
   "source": [
    "recall = recall_score(Y_test, Y_pred_svm)"
   ]
  },
  {
   "cell_type": "code",
   "execution_count": 165,
   "id": "af427b6d",
   "metadata": {},
   "outputs": [
    {
     "name": "stdout",
     "output_type": "stream",
     "text": [
      "Recall is:  0.8823529411764706\n"
     ]
    }
   ],
   "source": [
    "print(\"Recall is: \",recall)"
   ]
  },
  {
   "cell_type": "markdown",
   "id": "5e5cc2dc",
   "metadata": {},
   "source": [
    "F_SCORE"
   ]
  },
  {
   "cell_type": "code",
   "execution_count": 166,
   "id": "96645adb",
   "metadata": {},
   "outputs": [
    {
     "name": "stdout",
     "output_type": "stream",
     "text": [
      "0.8450704225352113\n"
     ]
    }
   ],
   "source": [
    "print((2*precision*recall)/(precision+recall))"
   ]
  },
  {
   "cell_type": "code",
   "execution_count": 167,
   "id": "5777316e",
   "metadata": {},
   "outputs": [
    {
     "data": {
      "text/html": [
       "<div>\n",
       "<style scoped>\n",
       "    .dataframe tbody tr th:only-of-type {\n",
       "        vertical-align: middle;\n",
       "    }\n",
       "\n",
       "    .dataframe tbody tr th {\n",
       "        vertical-align: top;\n",
       "    }\n",
       "\n",
       "    .dataframe thead th {\n",
       "        text-align: right;\n",
       "    }\n",
       "</style>\n",
       "<table border=\"1\" class=\"dataframe\">\n",
       "  <thead>\n",
       "    <tr style=\"text-align: right;\">\n",
       "      <th>col_0</th>\n",
       "      <th>0</th>\n",
       "      <th>1</th>\n",
       "    </tr>\n",
       "    <tr>\n",
       "      <th>target</th>\n",
       "      <th></th>\n",
       "      <th></th>\n",
       "    </tr>\n",
       "  </thead>\n",
       "  <tbody>\n",
       "    <tr>\n",
       "      <th>0</th>\n",
       "      <td>20</td>\n",
       "      <td>7</td>\n",
       "    </tr>\n",
       "    <tr>\n",
       "      <th>1</th>\n",
       "      <td>4</td>\n",
       "      <td>30</td>\n",
       "    </tr>\n",
       "  </tbody>\n",
       "</table>\n",
       "</div>"
      ],
      "text/plain": [
       "col_0    0   1\n",
       "target        \n",
       "0       20   7\n",
       "1        4  30"
      ]
     },
     "execution_count": 167,
     "metadata": {},
     "output_type": "execute_result"
    }
   ],
   "source": [
    "#BAD CM STYLE\n",
    "CM = pd.crosstab(Y_test, Y_pred_svm)\n",
    "CM"
   ]
  },
  {
   "cell_type": "code",
   "execution_count": 168,
   "id": "d1d63c15",
   "metadata": {},
   "outputs": [],
   "source": [
    "TN=CM.iloc[0,0]\n",
    "FP=CM.iloc[0,1]\n",
    "FN=CM.iloc[1,0]\n",
    "TP=CM.iloc[1,1]"
   ]
  },
  {
   "cell_type": "markdown",
   "id": "1366f7e4",
   "metadata": {},
   "source": [
    "FALSE NEGATIVE RATE"
   ]
  },
  {
   "cell_type": "code",
   "execution_count": 169,
   "id": "0b60e0ee",
   "metadata": {},
   "outputs": [
    {
     "data": {
      "text/plain": [
       "11.764705882352942"
      ]
     },
     "execution_count": 169,
     "metadata": {},
     "output_type": "execute_result"
    }
   ],
   "source": [
    "fnr = FN*100/(FN+TP)\n",
    "fnr"
   ]
  },
  {
   "cell_type": "markdown",
   "id": "4c433378",
   "metadata": {},
   "source": [
    "___________________________________________________________________________\n",
    "F1 score\n",
    "___________________________________________________________________________\n",
    "\n",
    "LOGISTIC REGRESSION: 0.87\n",
    "\n",
    "RANDOM FOREST: 0.89\n",
    "\n",
    "NAIVE BAYES: 0.87\n",
    "\n",
    "KNN: 0.707\n",
    "\n",
    "SVM: 0.84"
   ]
  },
  {
   "cell_type": "markdown",
   "id": "153590ff",
   "metadata": {},
   "source": [
    "# FINAL SCORE"
   ]
  },
  {
   "cell_type": "code",
   "execution_count": 170,
   "id": "d2e98dfb",
   "metadata": {},
   "outputs": [],
   "source": [
    "# initialize an empty list\n",
    "accuracy = []\n",
    "\n",
    "# list of algorithms names\n",
    "classifiers = ['KNN', 'SVM', 'Logistic Regression', 'Naive Bayes', 'Random Forests']\n",
    "\n",
    "# list of algorithms with parameters\n",
    "models = [KNeighborsClassifier(n_neighbors=8), LinearSVC(random_state=0, tol=1e-05), LogisticRegression(), \n",
    "        GaussianNB(), RandomForestClassifier(n_estimators=100, random_state=0)]\n",
    "\n",
    "# loop through algorithms and append the score into the list\n",
    "for i in models:\n",
    "    model = i\n",
    "    model.fit(X_train, Y_train)\n",
    "    score = model.score(X_test, Y_test)\n",
    "    accuracy.append(score)"
   ]
  },
  {
   "cell_type": "code",
   "execution_count": 171,
   "id": "a378fb74",
   "metadata": {},
   "outputs": [
    {
     "data": {
      "text/html": [
       "<div>\n",
       "<style scoped>\n",
       "    .dataframe tbody tr th:only-of-type {\n",
       "        vertical-align: middle;\n",
       "    }\n",
       "\n",
       "    .dataframe tbody tr th {\n",
       "        vertical-align: top;\n",
       "    }\n",
       "\n",
       "    .dataframe thead th {\n",
       "        text-align: right;\n",
       "    }\n",
       "</style>\n",
       "<table border=\"1\" class=\"dataframe\">\n",
       "  <thead>\n",
       "    <tr style=\"text-align: right;\">\n",
       "      <th></th>\n",
       "      <th>accuracy</th>\n",
       "    </tr>\n",
       "  </thead>\n",
       "  <tbody>\n",
       "    <tr>\n",
       "      <th>KNN</th>\n",
       "      <td>0.688525</td>\n",
       "    </tr>\n",
       "    <tr>\n",
       "      <th>SVM</th>\n",
       "      <td>0.459016</td>\n",
       "    </tr>\n",
       "    <tr>\n",
       "      <th>Logistic Regression</th>\n",
       "      <td>0.852459</td>\n",
       "    </tr>\n",
       "    <tr>\n",
       "      <th>Naive Bayes</th>\n",
       "      <td>0.852459</td>\n",
       "    </tr>\n",
       "    <tr>\n",
       "      <th>Random Forests</th>\n",
       "      <td>0.885246</td>\n",
       "    </tr>\n",
       "  </tbody>\n",
       "</table>\n",
       "</div>"
      ],
      "text/plain": [
       "                     accuracy\n",
       "KNN                  0.688525\n",
       "SVM                  0.459016\n",
       "Logistic Regression  0.852459\n",
       "Naive Bayes          0.852459\n",
       "Random Forests       0.885246"
      ]
     },
     "execution_count": 171,
     "metadata": {},
     "output_type": "execute_result"
    }
   ],
   "source": [
    "# create a dataframe from accuracy results\n",
    "summary = pd.DataFrame({'accuracy':accuracy}, index=classifiers)       \n",
    "summary"
   ]
  },
  {
   "cell_type": "code",
   "execution_count": 172,
   "id": "5246392b",
   "metadata": {},
   "outputs": [
    {
     "data": {
      "text/plain": [
       "<AxesSubplot:xlabel='Algorithms', ylabel='Accuracy score'>"
      ]
     },
     "execution_count": 172,
     "metadata": {},
     "output_type": "execute_result"
    },
    {
     "data": {
      "image/png": "[encoded data removed]",
      "text/plain": [
       "<Figure size 1080x576 with 1 Axes>"
      ]
     },
     "metadata": {},
     "output_type": "display_data"
    }
   ],
   "source": [
    "scores = [score_lr,score_nb,score_knn,score_svm,score_rf]\n",
    "algorithms = [\"Logistic Regression\",\"Naive Bayes\",\"K-Nearest Neighbors\",\"Support Vector Machines\",\"Random Forest\"] \n",
    "sns.set(rc={'figure.figsize':(15,8)})\n",
    "plt.xlabel(\"Algorithms\")\n",
    "plt.ylabel(\"Accuracy score\")\n",
    "\n",
    "sns.barplot(algorithms,scores)"
   ]
  },
  {
   "cell_type": "code",
   "execution_count": null,
   "id": "0ddd54da",
   "metadata": {},
   "outputs": [],
   "source": []
  }
 ],
 "metadata": {
  "kernelspec": {
   "display_name": "Python 3 (ipykernel)",
   "language": "python",
   "name": "python3"
  },
  "language_info": {
   "codemirror_mode": {
    "name": "ipython",
    "version": 3
   },
   "file_extension": ".py",
   "mimetype": "text/x-python",
   "name": "python",
   "nbconvert_exporter": "python",
   "pygments_lexer": "ipython3",
   "version": "3.9.7"
  }
 },
 "nbformat": 4,
 "nbformat_minor": 5
}
